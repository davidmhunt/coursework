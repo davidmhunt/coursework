{
 "cells": [
  {
   "cell_type": "markdown",
   "metadata": {},
   "source": [
    "## Problem 2"
   ]
  },
  {
   "cell_type": "markdown",
   "metadata": {},
   "source": [
    "### 2.3"
   ]
  },
  {
   "cell_type": "code",
   "execution_count": 89,
   "metadata": {},
   "outputs": [
    {
     "name": "stdout",
     "output_type": "stream",
     "text": [
      "KL(P,Q) = 1.15\n",
      "KL(Q,P) = 1.36\n"
     ]
    }
   ],
   "source": [
    "import math\n",
    "\n",
    "p1 = 0.1\n",
    "p2 = 0.8\n",
    "\n",
    "#KL (P,Q)\n",
    "kl_p_q = p1 * math.log(p1/p2) + (1-p1) * math.log((1-p1)/(1-p2))\n",
    "txt = \"KL(P,Q) = {:0.2f}\".format(kl_p_q)\n",
    "print(txt)\n",
    "\n",
    "#KL(Q,P)\n",
    "kl_p_q = p2 * math.log(p2/p1) + (1-p2) * math.log((1-p2)/(1-p1))\n",
    "txt = \"KL(Q,P) = {:0.2f}\".format(kl_p_q)\n",
    "print(txt)"
   ]
  },
  {
   "cell_type": "markdown",
   "metadata": {},
   "source": [
    "## Problem #3: Classifiers and Metrics - Coding\n",
    "### Support Code for Problem 3 (used throughout problem 3)"
   ]
  },
  {
   "cell_type": "code",
   "execution_count": 98,
   "metadata": {},
   "outputs": [],
   "source": [
    "import numpy as np\n",
    "import pandas as pd\n",
    "import matplotlib.pyplot as plt\n",
    "\n",
    "# storing the data in a numpy array with column labels as follows:\n",
    "# [\"Age\",\"likeRowing\",\"Experience\",\"Income\",\"Y\"]\n",
    "\n",
    "\n",
    "data = np.array([\n",
    "    [20,1,0,20,0,0],\n",
    "    [18,1,1,33,0,0],\n",
    "    [11,0,1,21,1,0],\n",
    "    [31,0,0,18,1,0],\n",
    "    [19,1,1,7,1,0],\n",
    "    [21,1,0,10,0,0],\n",
    "    [44,1,0,23,1,0],\n",
    "    [15,1,1,16,0,0],\n",
    "    [16,0,1,15,1,0],\n",
    "    [17,1,0,6,0,0]\n",
    "],dtype=np.double)\n",
    "\n",
    "\n",
    "\n",
    "def g_x(x = np.empty((4,1),dtype=np.double)):\n",
    "    #define theta and theta_0\n",
    "    theta = np.array([0.05,-3,2.1,0.008],dtype=np.double)\n",
    "    theta_0 = np.double(0.3)\n",
    "\n",
    "    #return g(x)\n",
    "    return np.matmul(np.transpose(theta),x) + theta_0\n",
    "\n",
    "def f_x(x = np.empty((4,1),dtype = np.double)):\n",
    "    return np.tanh(g_x(x))\n",
    "\n",
    "def compute_confusion_matrix(f_x,y,threshold = np.double(0.0)):\n",
    "    TP = 0\n",
    "    FP = 0\n",
    "    FN = 0\n",
    "    TN = 0\n",
    "\n",
    "    for i in range(0,f_x.size):\n",
    "        if y[i] == 1:\n",
    "            if f_x[i] >= threshold:\n",
    "                TP += 1\n",
    "            else:\n",
    "                FN += 1\n",
    "        else: #Y = 0\n",
    "            if f_x[i] < threshold:\n",
    "                TN += 1\n",
    "            else:\n",
    "                FP += 1\n",
    "    \n",
    "    return np.array([[TP,FP],[FN,TN]])\n",
    "\n",
    "def print_confusion_matrix(cm):\n",
    "    df = pd.DataFrame({\"y = +1\":cm[:,0],\"y = 0\":cm[:,1]},\n",
    "        index = [\"f(x) >= threshold\",\"f(x) < threshold\"])\n",
    "    print(df)\n",
    "\n",
    "def compute_missclassification_error(cm):\n",
    "\n",
    "    FP = cm[0,1]\n",
    "    FN = cm[1,0]\n",
    "    TP = cm[0,0]\n",
    "    TN = cm[1,1]\n",
    "\n",
    "    return (FP + FN)/(FP + FN + TP + TN)\n",
    "\n",
    "def compute_true_positive_rate(cm):\n",
    "\n",
    "    TP = cm[0,0]\n",
    "    FN = cm[1,0]\n",
    "\n",
    "    return (TP) / (TP + FN)\n",
    "\n",
    "def compute_true_negative_rate(cm):\n",
    "\n",
    "    TN = cm[1,1]\n",
    "    FP = cm[0,1]\n",
    "\n",
    "    return (TN) / (TN + FP)\n",
    "\n",
    "def compute_false_positive_rate(cm):\n",
    "\n",
    "    FP = cm[0,1]\n",
    "    TN = cm[1,1]\n",
    "\n",
    "    return (FP) / (TN + FP)\n",
    "\n",
    "def compute_precision(cm):\n",
    "\n",
    "    TP = cm[0,0]\n",
    "    FP = cm[0,1]\n",
    "\n",
    "    return (TP) / (TP + FP)\n",
    "\n",
    "def compute_F1(cm):\n",
    "    \n",
    "    precision = compute_precision(cm)\n",
    "    recall = compute_true_positive_rate(cm)\n",
    "\n",
    "    return 2 * (precision * recall)/(precision + recall)\n",
    "\n",
    "def print_summary_statistics(f_x,y,threshold = 0):\n",
    "\n",
    "    #compute the confusion matrix:\n",
    "    cm = compute_confusion_matrix(f_x,y,threshold)\n",
    "\n",
    "    #Print confusion matrix\n",
    "    txt = \"Confusion Matrix:\"\n",
    "    print(txt)\n",
    "    print_confusion_matrix(cm)\n",
    "    \n",
    "    #Print missclassification error\n",
    "    txt = \"\\nMissclassification Error: {}\\n\".format(compute_missclassification_error(cm))\n",
    "    print(txt)\n",
    "\n",
    "    #Print Recall (TPR)\n",
    "    txt = \"Recall (TPR): {}\\n\".format(compute_true_positive_rate(cm))\n",
    "    print(txt)\n",
    "\n",
    "    #print Specificity (TNR)\n",
    "    txt = \"Specificity: {}\\n\".format(compute_true_negative_rate(cm))\n",
    "    print(txt)\n",
    "\n",
    "    #Print False Positive Rate\n",
    "    txt = \"False Positive Rate: {}\\n\".format(compute_false_positive_rate(cm))\n",
    "    print(txt)\n",
    "\n",
    "    #print Precision\n",
    "    txt = \"Precision: {}\\n\".format(compute_precision(cm))\n",
    "    print(txt)\n",
    "\n",
    "    #print F1\n",
    "    txt = \"F1: {}\\n\".format(compute_F1(cm))\n",
    "    print(txt)\n",
    "\n",
    "def generate_ROC_curve(f_x,y,show_plt = True):\n",
    "    \n",
    "    #put f_x and f_y into an array\n",
    "    data = np.array([y,f_x]).transpose()\n",
    "\n",
    "    #sort the array\n",
    "    data = data[(-1 * data[:,1]).argsort()]\n",
    "\n",
    "    #initialize an array of (FPR,TPR) coordinates for each threshold\n",
    "    ROC_points = np.empty((data.shape[0] + 2,2))\n",
    "\n",
    "    #initialize the first point\n",
    "    ROC_points[0,:] = [0,0]\n",
    "\n",
    "    #initialize the last point\n",
    "    ROC_points[11,:] = [1,1]\n",
    "\n",
    "    #for each threshold value\n",
    "    for i in range(0,data.shape[0]):\n",
    "\n",
    "        #compute the confusion matrix at the threshold\n",
    "        cm = compute_confusion_matrix(f_x,y,data[i,1])\n",
    "\n",
    "        #compute the FPR and TPR\n",
    "        TPR = compute_true_positive_rate(cm)\n",
    "        FPR = compute_false_positive_rate(cm)\n",
    "\n",
    "        #save the values in the array\n",
    "        ROC_points[i + 1,:] = [FPR,TPR]\n",
    "    \n",
    "    #plot the ROC curve\n",
    "    if show_plt:\n",
    "        plt.plot(ROC_points[:,0],ROC_points[:,1])\n",
    "        plt.xlabel(\"FPR\")\n",
    "        plt.ylabel(\"TPR\")\n",
    "        plt.title(\"ROC Curve\")\n",
    "        plt.show()\n",
    "    return ROC_points\n",
    "\n",
    "def plot_misclassification_vs_threshold(f_x,y,step_size = 0.1,show_plt = True):\n",
    "        #put f_x and f_y into an array\n",
    "    data = np.array([y,f_x]).transpose()\n",
    "\n",
    "    #sort the array\n",
    "    data = data[(-1 * data[:,1]).argsort()]\n",
    "\n",
    "    max_threshold = data[0,1] + 1\n",
    "    min_threshold = data[-1,1] - 1\n",
    "\n",
    "    #initialize an array to hold the plot points\n",
    "    thresholds_to_test = np.arange(min_threshold,max_threshold,step_size)\n",
    "\n",
    "    plt_points = np.empty((thresholds_to_test.shape[0],2))\n",
    "\n",
    "    #for each threshold value\n",
    "    for i in range(0,thresholds_to_test.shape[0]):\n",
    "\n",
    "        #compute the confusion matrix at the threshold\n",
    "        threshold = thresholds_to_test[i]\n",
    "        cm = compute_confusion_matrix(f_x,y,threshold)\n",
    "\n",
    "        #compute the FPR and TPR\n",
    "        miss_class_error = compute_missclassification_error(cm)\n",
    "\n",
    "        #save the values in the array\n",
    "        plt_points[i,:] = [threshold,miss_class_error]\n",
    "    \n",
    "    #plot the ROC curve\n",
    "    if show_plt:\n",
    "        plt.plot(plt_points[:,0],plt_points[:,1])\n",
    "        plt.xlabel(\"Threshold\")\n",
    "        plt.ylabel(\"Miss Classification Error\")\n",
    "        plt.title(\"Threshold vs Miss Classification Error\")\n",
    "        plt.show()\n",
    "    return plt_points\n",
    "\n",
    "def compute_g_x(data,print_output = True):\n",
    "    #compute g(x) for each x\n",
    "    for i in range(0,data.shape[0]):\n",
    "        data[i,5] = g_x(data[i,0:4])\n",
    "\n",
    "    if print_output:\n",
    "        df = pd.DataFrame({\"Age\":data[:,0],\n",
    "                            \"likeRowing\":data[:,1],\n",
    "                            \"Experience\":data[:,2],\n",
    "                            \"Income\":data[:,3],\n",
    "                            \"Y\":data[:,4],\n",
    "                            \"g(x)\":data[:,5]})\n",
    "        print(df)\n",
    "    return data\n",
    "\n",
    "def compute_f_x(data,print_output = True):\n",
    "    #compute g(x) for each x\n",
    "    for i in range(0,data.shape[0]):\n",
    "        data[i,5] = f_x(data[i,0:4])\n",
    "\n",
    "    if print_output:\n",
    "        df = pd.DataFrame({\"Age\":data[:,0],\n",
    "                            \"likeRowing\":data[:,1],\n",
    "                            \"Experience\":data[:,2],\n",
    "                            \"Income\":data[:,3],\n",
    "                            \"Y\":data[:,4],\n",
    "                            \"f(x)\":data[:,5]})\n",
    "        print(df)\n",
    "    return data\n",
    "\n",
    "def sort_output(data,f_x_col_idx,f_x_label = \"f(x)\",print_output = True):\n",
    "    #print a list sorted by the value of f_x\n",
    "    sorted_data = data[(-1 *data[:,f_x_col_idx]).argsort()]\n",
    "\n",
    "    if print_output:\n",
    "        df = pd.DataFrame({\"Age\":sorted_data[:,0],\n",
    "                            \"likeRowing\":sorted_data[:,1],\n",
    "                            \"Experience\":sorted_data[:,2],\n",
    "                            \"Income\":sorted_data[:,3],\n",
    "                            \"Y\":sorted_data[:,4],\n",
    "                            f_x_label:sorted_data[:,5]})\n",
    "        \n",
    "        print(df)\n"
   ]
  },
  {
   "cell_type": "markdown",
   "metadata": {},
   "source": [
    "### Problem 3.1\n",
    "\n",
    "Calculated Values of g(x)"
   ]
  },
  {
   "cell_type": "code",
   "execution_count": 91,
   "metadata": {},
   "outputs": [
    {
     "name": "stdout",
     "output_type": "stream",
     "text": [
      "    Age  likeRowing  Experience  Income    Y   g(x)\n",
      "0  20.0         1.0         0.0    20.0  0.0 -1.540\n",
      "1  18.0         1.0         1.0    33.0  0.0  0.564\n",
      "2  11.0         0.0         1.0    21.0  1.0  3.118\n",
      "3  31.0         0.0         0.0    18.0  1.0  1.994\n",
      "4  19.0         1.0         1.0     7.0  1.0  0.406\n",
      "5  21.0         1.0         0.0    10.0  0.0 -1.570\n",
      "6  44.0         1.0         0.0    23.0  1.0 -0.316\n",
      "7  15.0         1.0         1.0    16.0  0.0  0.278\n",
      "8  16.0         0.0         1.0    15.0  1.0  3.320\n",
      "9  17.0         1.0         0.0     6.0  0.0 -1.802\n"
     ]
    }
   ],
   "source": [
    "g_x_computed = compute_g_x(data,True)"
   ]
  },
  {
   "cell_type": "markdown",
   "metadata": {},
   "source": [
    "Next, we determine what choise of threshold would minimize misclassification error. To do this, we can generate a plot of threshold vs miss-classification error"
   ]
  },
  {
   "cell_type": "code",
   "execution_count": 92,
   "metadata": {},
   "outputs": [
    {
     "data": {
      "image/png": "[encoded data removed]",
      "text/plain": [
       "<Figure size 432x288 with 1 Axes>"
      ]
     },
     "metadata": {
      "needs_background": "light"
     },
     "output_type": "display_data"
    },
    {
     "name": "stdout",
     "output_type": "stream",
     "text": [
      "    Age  likeRowing  Experience  Income    Y   g(x)\n",
      "0  16.0         0.0         1.0    15.0  1.0  3.320\n",
      "1  11.0         0.0         1.0    21.0  1.0  3.118\n",
      "2  31.0         0.0         0.0    18.0  1.0  1.994\n",
      "3  18.0         1.0         1.0    33.0  0.0  0.564\n",
      "4  19.0         1.0         1.0     7.0  1.0  0.406\n",
      "5  15.0         1.0         1.0    16.0  0.0  0.278\n",
      "6  44.0         1.0         0.0    23.0  1.0 -0.316\n",
      "7  20.0         1.0         0.0    20.0  0.0 -1.540\n",
      "8  21.0         1.0         0.0    10.0  0.0 -1.570\n",
      "9  17.0         1.0         0.0     6.0  0.0 -1.802\n"
     ]
    }
   ],
   "source": [
    "plt_points = plot_misclassification_vs_threshold(g_x_computed[:,5],g_x_computed[:,4],0.1)\n",
    "\n",
    "#print out a sorted list of g(x) as well\n",
    "sort_output(g_x_computed,5,\"g(x)\",True)"
   ]
  },
  {
   "cell_type": "markdown",
   "metadata": {},
   "source": [
    "Based on this plot, it is clear that we can minimize misclassification error by putting the threshold in the following intervals: (-1.540,-.316),(0.278,0.406), and (0.564,1.994). Setting the threshold in any of these intervals gives us a missclassification error of 0.2"
   ]
  },
  {
   "cell_type": "markdown",
   "metadata": {},
   "source": [
    "### Problem 3.2\n",
    "\n",
    "Start by calculating the values of f(x)"
   ]
  },
  {
   "cell_type": "code",
   "execution_count": 93,
   "metadata": {},
   "outputs": [
    {
     "name": "stdout",
     "output_type": "stream",
     "text": [
      "    Age  likeRowing  Experience  Income    Y      f(x)\n",
      "0  20.0         1.0         0.0    20.0  0.0 -0.912120\n",
      "1  18.0         1.0         1.0    33.0  0.0  0.510939\n",
      "2  11.0         0.0         1.0    21.0  1.0  0.996092\n",
      "3  31.0         0.0         0.0    18.0  1.0  0.963601\n",
      "4  19.0         1.0         1.0     7.0  1.0  0.385071\n",
      "5  21.0         1.0         0.0    10.0  0.0 -0.917026\n",
      "6  44.0         1.0         0.0    23.0  1.0 -0.305886\n",
      "7  15.0         1.0         1.0    16.0  0.0  0.271053\n",
      "8  16.0         0.0         1.0    15.0  1.0  0.997389\n",
      "9  17.0         1.0         0.0     6.0  0.0 -0.947013\n"
     ]
    }
   ],
   "source": [
    "f_x_computed = compute_f_x(data,print_output = True)"
   ]
  },
  {
   "cell_type": "markdown",
   "metadata": {},
   "source": [
    "Next, we determine what choise of threshold would minimize misclassification error. To do this, we can generate a plot of threshold vs miss-classification error"
   ]
  },
  {
   "cell_type": "code",
   "execution_count": 94,
   "metadata": {},
   "outputs": [
    {
     "data": {
      "image/png": "[encoded data removed]",
      "text/plain": [
       "<Figure size 432x288 with 1 Axes>"
      ]
     },
     "metadata": {
      "needs_background": "light"
     },
     "output_type": "display_data"
    },
    {
     "name": "stdout",
     "output_type": "stream",
     "text": [
      "    Age  likeRowing  Experience  Income    Y      f(x)\n",
      "0  16.0         0.0         1.0    15.0  1.0  0.997389\n",
      "1  11.0         0.0         1.0    21.0  1.0  0.996092\n",
      "2  31.0         0.0         0.0    18.0  1.0  0.963601\n",
      "3  18.0         1.0         1.0    33.0  0.0  0.510939\n",
      "4  19.0         1.0         1.0     7.0  1.0  0.385071\n",
      "5  15.0         1.0         1.0    16.0  0.0  0.271053\n",
      "6  44.0         1.0         0.0    23.0  1.0 -0.305886\n",
      "7  20.0         1.0         0.0    20.0  0.0 -0.912120\n",
      "8  21.0         1.0         0.0    10.0  0.0 -0.917026\n",
      "9  17.0         1.0         0.0     6.0  0.0 -0.947013\n"
     ]
    }
   ],
   "source": [
    "plt_points = plot_misclassification_vs_threshold(f_x_computed[:,5],f_x_computed[:,4],0.01)\n",
    "\n",
    "#print out a sorted list of g(x) as well\n",
    "sort_output(f_x_computed,5,\"f(x)\",True)"
   ]
  },
  {
   "cell_type": "markdown",
   "metadata": {},
   "source": [
    "Based on this plot, it is clear that we can minimize misclassification error by putting the threshold in the following intervals: (-0.912,-0.305),(0.271,0.385), and (0.51,0.96). Setting the threshold in any of these intervals gives us a missclassification error of 0.2. "
   ]
  },
  {
   "cell_type": "markdown",
   "metadata": {},
   "source": [
    "Next, we compute the confusion matrix, precision, recall, and F1 score for the threshold from (0.51,0.96) using a threshold of 0.6"
   ]
  },
  {
   "cell_type": "code",
   "execution_count": 95,
   "metadata": {},
   "outputs": [
    {
     "name": "stdout",
     "output_type": "stream",
     "text": [
      "Confusion Matrix:\n",
      "                   y = +1  y = 0\n",
      "f(x) >= threshold       3      0\n",
      "f(x) < threshold        2      5\n",
      "\n",
      "Missclassification Error: 0.2\n",
      "\n",
      "Recall (TPR): 0.6\n",
      "\n",
      "Specificity: 1.0\n",
      "\n",
      "False Positive Rate: 0.0\n",
      "\n",
      "Precision: 1.0\n",
      "\n",
      "F1: 0.7499999999999999\n",
      "\n"
     ]
    }
   ],
   "source": [
    "#compute relevant statistics for threshold of 0.6\n",
    "print_summary_statistics(f_x_computed[:,5],f_x_computed[:,4],threshold= 0.6)"
   ]
  },
  {
   "cell_type": "markdown",
   "metadata": {},
   "source": [
    "### Problem 3.3\n",
    "\n",
    "Plot the ROC curves with additional points for decision points with minimum classification error"
   ]
  },
  {
   "cell_type": "code",
   "execution_count": 100,
   "metadata": {},
   "outputs": [
    {
     "data": {
      "image/png": "[encoded data removed]",
      "text/plain": [
       "<Figure size 432x288 with 1 Axes>"
      ]
     },
     "metadata": {
      "needs_background": "light"
     },
     "output_type": "display_data"
    }
   ],
   "source": [
    "ROC_points = generate_ROC_curve(f_x_computed[:,5],f_x_computed[:,4],show_plt= False)\n",
    "\n",
    "decision_points = np.array([[0,0.6],[0.2,0.8],[0.4,1.0]])\n",
    "plt.plot(ROC_points[:,0],ROC_points[:,1],\"b-\",decision_points[:,0],decision_points[:,1],\"ro\")\n",
    "plt.xlabel(\"FPR\")\n",
    "plt.ylabel(\"TPR\")\n",
    "plt.title(\"ROC Curve with Decision Points\")\n",
    "plt.show()"
   ]
  },
  {
   "cell_type": "markdown",
   "metadata": {},
   "source": [
    "## Problem 4 Support"
   ]
  },
  {
   "cell_type": "markdown",
   "metadata": {},
   "source": [
    "## Problem 5"
   ]
  },
  {
   "cell_type": "markdown",
   "metadata": {},
   "source": [
    "### Problem 5.1"
   ]
  },
  {
   "cell_type": "code",
   "execution_count": 111,
   "metadata": {},
   "outputs": [
    {
     "data": {
      "image/png": "[encoded data removed]",
      "text/plain": [
       "<Figure size 432x288 with 1 Axes>"
      ]
     },
     "metadata": {
      "needs_background": "light"
     },
     "output_type": "display_data"
    }
   ],
   "source": [
    "from sklearn import tree\n",
    "from sklearn.tree import DecisionTreeClassifier\n",
    "\n",
    "def import_and_format_data(csv,print_preview = True):\n",
    "    data = pd.read_csv(csv)\n",
    "\n",
    "    #convert ShelveLoc to be numerical\n",
    "    d = {\"Bad\":0,\"Medium\":1,\"Good\":2}\n",
    "    data[\"ShelveLoc\"] = data[\"ShelveLoc\"].map(d)\n",
    "\n",
    "    #convert urban and US to numerical\n",
    "    d = {\"Yes\":0,\"No\":1}\n",
    "    data[\"Urban\"] = data[\"Urban\"].map(d)\n",
    "    data[\"US\"] = data[\"US\"].map(d)\n",
    "\n",
    "    if print_preview:\n",
    "        print(data)\n",
    "    return data\n",
    "\n",
    "def train_with_sklearn(X,Y,features,plot_tree = True):\n",
    "    dtree = DecisionTreeClassifier()\n",
    "    dtree = dtree.fit(X,Y)\n",
    "\n",
    "    if plot_tree:\n",
    "        tree.plot_tree(dtree,feature_names= features)\n",
    "\n",
    "    return dtree\n",
    "\n",
    "data = import_and_format_data(\"carseats_train.csv\",print_preview= False)\n",
    "\n",
    "features = [\"CompPrice\",\"Income\",\"Advertising\",\"Population\",\"Price\",\"ShelveLoc\",\"Age\",\"Education\",\"Urban\",\"US\"]\n",
    "X = data[features]\n",
    "Y = data[\"Sales\"]\n",
    "\n",
    "dtreee = train_with_sklearn(X,Y,features)\n"
   ]
  }
 ],
 "metadata": {
  "kernelspec": {
   "display_name": "Python 3.9.7 ('base')",
   "language": "python",
   "name": "python3"
  },
  "language_info": {
   "codemirror_mode": {
    "name": "ipython",
    "version": 3
   },
   "file_extension": ".py",
   "mimetype": "text/x-python",
   "name": "python",
   "nbconvert_exporter": "python",
   "pygments_lexer": "ipython3",
   "version": "3.9.7"
  },
  "orig_nbformat": 4,
  "vscode": {
   "interpreter": {
    "hash": "e68eed1f3184a3f6121c9a05bed76e964637a46c7a3fc957d7e9d6f6ef4db70d"
   }
  }
 },
 "nbformat": 4,
 "nbformat_minor": 2
}
