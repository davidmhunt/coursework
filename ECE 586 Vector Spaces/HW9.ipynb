{
 "cells": [
  {
   "cell_type": "markdown",
   "metadata": {},
   "source": [
    "## Problem 5"
   ]
  },
  {
   "cell_type": "code",
   "execution_count": 7,
   "metadata": {},
   "outputs": [
    {
     "name": "stdout",
     "output_type": "stream",
     "text": [
      "V1:\n",
      "[[10.]\n",
      " [20.]]\n",
      "\n",
      "V2:\n",
      "[[10.]\n",
      " [ 0.]]\n",
      "\n",
      "V3\n",
      "[[2.]\n",
      " [4.]]\n",
      "\n",
      "V4:\n",
      "[[2.]\n",
      " [0.]]\n"
     ]
    }
   ],
   "source": [
    "import numpy as np\n",
    "\n",
    "#define the basis for the subspaces\n",
    "a = np.array([\n",
    "    [1/np.sqrt(5),2/np.sqrt(5)]\n",
    "]).T\n",
    "\n",
    "b = np.array([\n",
    "    [1,0]\n",
    "]).T\n",
    "\n",
    "#define the projection matricies\n",
    "P_a = (a @ a.T)/np.power(np.linalg.norm(a),2)\n",
    "P_b = (b @ b.T)/np.power(np.linalg.norm(a),2)\n",
    "\n",
    "v_0 = 50 * b\n",
    "\n",
    "#solve for the requested values\n",
    "v_1 = P_a @ v_0\n",
    "v_2 = P_b @ v_1\n",
    "v_3 = P_a @ v_2\n",
    "v_4 = P_b @ v_3\n",
    "\n",
    "out_str = \"V1:\\n{}\\n\\nV2:\\n{}\\n\\nV3\\n{}\\n\\nV4:\\n{}\".format(v_1,v_2,v_3,v_4)\n",
    "print(out_str)"
   ]
  }
 ],
 "metadata": {
  "kernelspec": {
   "display_name": "Python 3.9.13 ('base')",
   "language": "python",
   "name": "python3"
  },
  "language_info": {
   "codemirror_mode": {
    "name": "ipython",
    "version": 3
   },
   "file_extension": ".py",
   "mimetype": "text/x-python",
   "name": "python",
   "nbconvert_exporter": "python",
   "pygments_lexer": "ipython3",
   "version": "3.9.13"
  },
  "orig_nbformat": 4,
  "vscode": {
   "interpreter": {
    "hash": "a05f93782d31fb45d30263a0389582a01d7e14abf3ec6aacde92652303ee35ce"
   }
  }
 },
 "nbformat": 4,
 "nbformat_minor": 2
}
