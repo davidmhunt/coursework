{
 "cells": [
  {
   "cell_type": "markdown",
   "metadata": {},
   "source": [
    "## Problem 1"
   ]
  },
  {
   "cell_type": "code",
   "execution_count": 4,
   "metadata": {},
   "outputs": [
    {
     "name": "stdout",
     "output_type": "stream",
     "text": [
      "[[0]\n",
      " [1]\n",
      " [1]\n",
      " [0]]\n"
     ]
    }
   ],
   "source": [
    "import numpy as np\n",
    "\n",
    "T = np.array([\n",
    "    [0,1,-1],\n",
    "    [-1,2,-4],\n",
    "    [-2,3,-6],\n",
    "    [-3,4,-7]\n",
    "])\n",
    "\n",
    "u = np.array([[1,-1,-1]])\n",
    "\n",
    "v = np.matmul(T,u.transpose())\n",
    "\n",
    "print(v)"
   ]
  },
  {
   "cell_type": "markdown",
   "metadata": {},
   "source": [
    "## problem 3"
   ]
  },
  {
   "cell_type": "code",
   "execution_count": 16,
   "metadata": {},
   "outputs": [
    {
     "name": "stdout",
     "output_type": "stream",
     "text": [
      "[[0]\n",
      " [1]\n",
      " [1]]\n"
     ]
    }
   ],
   "source": [
    "from sys import ps1\n",
    "import numpy as np\n",
    "\n",
    "T = np.array([\n",
    "    [1,0,1,2],\n",
    "    [1,1,0,1],\n",
    "    [0,1,-1,-1]\n",
    "])\n",
    "\n",
    "#confirm correctness of t\n",
    "e = np.array([[0,1,0,0]])\n",
    "w = np.matmul(T,e.transpose())\n",
    "print(w)"
   ]
  },
  {
   "cell_type": "code",
   "execution_count": 24,
   "metadata": {},
   "outputs": [
    {
     "name": "stdout",
     "output_type": "stream",
     "text": [
      "[[ 1  0  0  0]\n",
      " [ 0  1  0  0]\n",
      " [-1  1  0  0]]\n"
     ]
    }
   ],
   "source": [
    "\n",
    "#confirm row echalon form\n",
    "p1 = np.array([\n",
    "    [1,0,-1,-2],\n",
    "    [0,1,0,0],\n",
    "    [0,0,1,0],\n",
    "    [0,0,0,1]\n",
    "])\n",
    "\n",
    "p2 = np.array([\n",
    "    [1,0,0,0],\n",
    "    [-1,1,1,1],\n",
    "    [0,0,1,1],\n",
    "    [0,0,0,0]\n",
    "])\n",
    "\n",
    "P = np.matmul(p1,p2)\n",
    "C = np.matmul(T,P)\n",
    "print(C)"
   ]
  }
 ],
 "metadata": {
  "kernelspec": {
   "display_name": "Python 3.9.12 ('base')",
   "language": "python",
   "name": "python3"
  },
  "language_info": {
   "codemirror_mode": {
    "name": "ipython",
    "version": 3
   },
   "file_extension": ".py",
   "mimetype": "text/x-python",
   "name": "python",
   "nbconvert_exporter": "python",
   "pygments_lexer": "ipython3",
   "version": "3.9.12"
  },
  "orig_nbformat": 4,
  "vscode": {
   "interpreter": {
    "hash": "a05f93782d31fb45d30263a0389582a01d7e14abf3ec6aacde92652303ee35ce"
   }
  }
 },
 "nbformat": 4,
 "nbformat_minor": 2
}
