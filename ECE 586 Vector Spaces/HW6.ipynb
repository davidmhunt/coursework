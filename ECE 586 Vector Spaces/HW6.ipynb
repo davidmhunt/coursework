{
 "cells": [
  {
   "cell_type": "markdown",
   "metadata": {},
   "source": [
    "## Problem 3"
   ]
  },
  {
   "cell_type": "code",
   "execution_count": 22,
   "metadata": {},
   "outputs": [
    {
     "name": "stdout",
     "output_type": "stream",
     "text": [
      "[0.70710678 0.         0.70710678]\n",
      "[-0.40824829  0.81649658  0.40824829]\n",
      "[ 0.57735027  0.57735027 -0.57735027]\n",
      "2.82842712474619\n",
      "2.4494897427831788\n",
      "2.220446049250313e-16\n"
     ]
    },
    {
     "data": {
      "text/plain": [
       "array([1., 2., 3.])"
      ]
     },
     "execution_count": 22,
     "metadata": {},
     "output_type": "execute_result"
    }
   ],
   "source": [
    "import numpy as np\n",
    "\n",
    "def norm_sq(v):\n",
    "    return np.linalg.norm(v) ** 2\n",
    "\n",
    "def proj(a,b):\n",
    "    return (np.inner(a,b)/(np.linalg.norm(b)**2)) * b\n",
    "\n",
    "v1 = np.array([1,0,1])\n",
    "v2 = np.array([0,1,1])\n",
    "v3 = np.array([1,3,3])\n",
    "\n",
    "w1 = v1\n",
    "\n",
    "w2 = v2 - proj(v2,w1)\n",
    "\n",
    "w3 = v3 - proj(v3,w1) - proj(v3,w2)\n",
    "\n",
    "w1 = w1 / np.linalg.norm(w1)\n",
    "w2 = w2 / np.linalg.norm(w2)\n",
    "w3 = w3 / np.linalg.norm(w3)\n",
    "\n",
    "print(w1)\n",
    "print(w2)\n",
    "print(w3)\n",
    "\n",
    "v = np.array([1,2,3])\n",
    "\n",
    "s1 = np.inner(v,w1)\n",
    "s2 = np.inner(v,w2)\n",
    "s3 = np.inner(v,w3)\n",
    "\n",
    "print(s1)\n",
    "print(s2)\n",
    "print(s3)\n",
    "\n",
    "s1 * w1 + s2 * w2 + s3 * w3"
   ]
  }
 ],
 "metadata": {
  "kernelspec": {
   "display_name": "Python 3.9.13 ('base')",
   "language": "python",
   "name": "python3"
  },
  "language_info": {
   "codemirror_mode": {
    "name": "ipython",
    "version": 3
   },
   "file_extension": ".py",
   "mimetype": "text/x-python",
   "name": "python",
   "nbconvert_exporter": "python",
   "pygments_lexer": "ipython3",
   "version": "3.9.13"
  },
  "orig_nbformat": 4,
  "vscode": {
   "interpreter": {
    "hash": "a05f93782d31fb45d30263a0389582a01d7e14abf3ec6aacde92652303ee35ce"
   }
  }
 },
 "nbformat": 4,
 "nbformat_minor": 2
}
