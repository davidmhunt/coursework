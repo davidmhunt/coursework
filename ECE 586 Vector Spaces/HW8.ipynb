{
 "cells": [
  {
   "cell_type": "markdown",
   "metadata": {},
   "source": [
    "# Problem 1"
   ]
  },
  {
   "cell_type": "code",
   "execution_count": 16,
   "metadata": {},
   "outputs": [
    {
     "data": {
      "text/plain": [
       "array([0., 0.])"
      ]
     },
     "execution_count": 16,
     "metadata": {},
     "output_type": "execute_result"
    }
   ],
   "source": [
    "import numpy as np\n",
    "\n",
    "A = np.array([\n",
    "    [1,2],\n",
    "    [3,-1],\n",
    "    [0,1],\n",
    "    [5,7]\n",
    "]\n",
    ")\n",
    "\n",
    "A_T = A.T\n",
    "A_T\n",
    "\n",
    "P1 = np.array([\n",
    "    [1,0],\n",
    "    [-2,1]\n",
    "])\n",
    "\n",
    "R1 = np.matmul(P1,A_T)\n",
    "\n",
    "P2 = np.array([\n",
    "    [1,3/7],\n",
    "    [0,-1/7]\n",
    "])\n",
    "R2 = np.matmul(P2,R1)\n",
    "R2\n",
    "\n",
    "B = np.array([\n",
    "    [0,0],\n",
    "    [0,0],\n",
    "    [1.0,0],\n",
    "    [0,1.0]\n",
    "    ])\n",
    "\n",
    "B[0:2,0:2] = -1 * R2[:,2:4]\n",
    "\n",
    "np.matmul(A_T,B[:,1])"
   ]
  },
  {
   "cell_type": "markdown",
   "metadata": {},
   "source": [
    "# Problem 4\n",
    "## Part A\n",
    "compute SVD of A and give the numerical result"
   ]
  },
  {
   "cell_type": "code",
   "execution_count": 26,
   "metadata": {},
   "outputs": [
    {
     "name": "stdout",
     "output_type": "stream",
     "text": [
      "U:\n",
      "[[-0.18979384 -0.19913305  0.79293446  0.54367202]\n",
      " [-0.50526862 -0.14275606 -0.58233696  0.62065126]\n",
      " [-0.82074341 -0.08637907  0.15432321 -0.54323408]\n",
      " [ 0.18724897 -0.96566319 -0.09123018 -0.1552723 ]]\n",
      "\n",
      "Sigma:\n",
      "[[1.73584608e+01 0.00000000e+00 0.00000000e+00]\n",
      " [0.00000000e+00 1.91933276e+00 0.00000000e+00]\n",
      " [0.00000000e+00 0.00000000e+00 1.03861641e-15]\n",
      " [0.00000000e+00 0.00000000e+00 0.00000000e+00]]\n",
      "\n",
      " V_H:\n",
      "[[-0.20020855 -0.35624211 -0.91269277]\n",
      " [-0.89064576  0.45434006  0.01803437]\n",
      " [-0.40824829 -0.81649658  0.40824829]]\n"
     ]
    }
   ],
   "source": [
    "A = np.array([\n",
    "    [1,1,3],\n",
    "    [2,3,8],\n",
    "    [3,5,13],\n",
    "    [1,-2,-3]\n",
    "])\n",
    "\n",
    "\n",
    "U,S,V_H = np.linalg.svd(A)\n",
    "\n",
    "#create sigma matrix\n",
    "Sigma = np.zeros((4,3))\n",
    "Sigma[0,0] = S[0]\n",
    "Sigma[1,1] = S[1]\n",
    "Sigma[2,2] = S[2]\n",
    "\n",
    "out_str = \"U:\\n{}\\n\\nSigma:\\n{}\\n\\n V_H:\\n{}\".format(U,Sigma,V_H)\n",
    "\n",
    "print(out_str)"
   ]
  },
  {
   "cell_type": "markdown",
   "metadata": {},
   "source": [
    "## Part B"
   ]
  },
  {
   "cell_type": "code",
   "execution_count": 30,
   "metadata": {},
   "outputs": [
    {
     "name": "stdout",
     "output_type": "stream",
     "text": [
      "U_1:\n",
      "[[-0.18979384 -0.19913305]\n",
      " [-0.50526862 -0.14275606]\n",
      " [-0.82074341 -0.08637907]\n",
      " [ 0.18724897 -0.96566319]]\n",
      "\n",
      "Sigma_1:\n",
      "[[17.35846081  0.        ]\n",
      " [ 0.          1.91933276]]\n",
      "\n",
      " V_1_H:\n",
      "[[-0.20020855 -0.35624211 -0.91269277]\n",
      " [-0.89064576  0.45434006  0.01803437]]\n",
      "\n",
      "\n",
      "P_A:\n",
      "[[ 0.07567568  0.12432432  0.17297297  0.15675676]\n",
      " [ 0.12432432  0.27567568  0.42702703  0.04324324]\n",
      " [ 0.17297297  0.42702703  0.68108108 -0.07027027]\n",
      " [ 0.15675676  0.04324324 -0.07027027  0.96756757]]\n",
      "\n",
      "Pseudoinverse:\n",
      "[[ 0.09459459  0.07207207  0.04954955  0.44594595]\n",
      " [-0.04324324 -0.02342342 -0.0036036  -0.23243243]\n",
      " [ 0.00810811  0.02522523  0.04234234 -0.01891892]]\n"
     ]
    }
   ],
   "source": [
    "#compute U1,Sigma1,and V1H\n",
    "\n",
    "U_1 = U[:,0:2]\n",
    "Sigma_1 = Sigma[0:2,0:2]\n",
    "V_1_H = V_H[0:2,:]\n",
    "\n",
    "out_str = \"U_1:\\n{}\\n\\nSigma_1:\\n{}\\n\\n V_1_H:\\n{}\\n\\n\".format(U_1,Sigma_1,V_1_H)\n",
    "print(out_str)\n",
    "\n",
    "#solve for projection operator\n",
    "P_A = U_1 @ U_1.T\n",
    "\n",
    "#solve for pseudoinverse\n",
    "pseudoinverse = V_1_H.T @ np.linalg.inv(Sigma_1) @ U_1.T\n",
    "\n",
    "out_str = \"P_A:\\n{}\\n\\nPseudoinverse:\\n{}\".format(P_A,pseudoinverse)\n",
    "print(out_str)"
   ]
  },
  {
   "cell_type": "code",
   "execution_count": 31,
   "metadata": {},
   "outputs": [
    {
     "data": {
      "text/plain": [
       "array([[ 0.07567568,  0.12432432,  0.17297297,  0.15675676],\n",
       "       [ 0.12432432,  0.27567568,  0.42702703,  0.04324324],\n",
       "       [ 0.17297297,  0.42702703,  0.68108108, -0.07027027],\n",
       "       [ 0.15675676,  0.04324324, -0.07027027,  0.96756757]])"
      ]
     },
     "execution_count": 31,
     "metadata": {},
     "output_type": "execute_result"
    }
   ],
   "source": [
    "A @ pseudoinverse"
   ]
  },
  {
   "cell_type": "markdown",
   "metadata": {},
   "source": [
    "## Part C"
   ]
  },
  {
   "cell_type": "code",
   "execution_count": 35,
   "metadata": {},
   "outputs": [
    {
     "name": "stdout",
     "output_type": "stream",
     "text": [
      "Projection onto Range of A:\n",
      "[[1.47027027]\n",
      " [2.12972973]\n",
      " [2.78918919]\n",
      " [3.9027027 ]]\n",
      "\n",
      "Projection onto orthogonal compliment of A:\n",
      "[[-0.47027027]\n",
      " [-0.12972973]\n",
      " [ 0.21081081]\n",
      " [ 0.0972973 ]]\n"
     ]
    }
   ],
   "source": [
    "x = np.array([[1,2,3,4]]).T\n",
    "\n",
    "#compute projection onto R(A)\n",
    "P_R_A = P_A @ x\n",
    "\n",
    "#compute projection onto orthogonal compliment of A\n",
    "U_2 = U[:,2:4]\n",
    "P_R_A_Ortho_compliment = U_2 @ U_2.T @ x\n",
    "\n",
    "out_str = \"Projection onto Range of A:\\n{}\\n\\nProjection onto orthogonal compliment of A:\\n{}\".format(P_R_A,P_R_A_Ortho_compliment)\n",
    "print(out_str)"
   ]
  }
 ],
 "metadata": {
  "kernelspec": {
   "display_name": "Python 3.9.13 ('base')",
   "language": "python",
   "name": "python3"
  },
  "language_info": {
   "codemirror_mode": {
    "name": "ipython",
    "version": 3
   },
   "file_extension": ".py",
   "mimetype": "text/x-python",
   "name": "python",
   "nbconvert_exporter": "python",
   "pygments_lexer": "ipython3",
   "version": "3.9.13"
  },
  "orig_nbformat": 4,
  "vscode": {
   "interpreter": {
    "hash": "a05f93782d31fb45d30263a0389582a01d7e14abf3ec6aacde92652303ee35ce"
   }
  }
 },
 "nbformat": 4,
 "nbformat_minor": 2
}
