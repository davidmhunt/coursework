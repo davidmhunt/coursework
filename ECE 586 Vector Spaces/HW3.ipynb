{
 "cells": [
  {
   "cell_type": "markdown",
   "metadata": {},
   "source": [
    "## Problem 6B"
   ]
  },
  {
   "cell_type": "code",
   "execution_count": 8,
   "metadata": {},
   "outputs": [
    {
     "name": "stdout",
     "output_type": "stream",
     "text": [
      "sqrt(2) = 1.4142156862745099\n",
      "sqrt(3) = 1.7320508100147276\n",
      "sqrt(4) = 2.0000000929222947\n",
      "\n"
     ]
    }
   ],
   "source": [
    "def g(x,root_to_solve):\n",
    "    \"\"\" Compute g(x) when solving for a specific root\n",
    "\n",
    "    Args:\n",
    "        x (float): value to compute g(x) for\n",
    "        root_to_solve (float): the root the function is solving for (ex: 9 for (sqrt(9))\n",
    "    \"\"\"\n",
    "\n",
    "    return (x * x) - root_to_solve\n",
    "\n",
    "def g_prime(x):\n",
    "    \"\"\" Compute and return the derrivative of g(x)\n",
    "\n",
    "    Args:\n",
    "        x (float): value to compute g'(x) for\n",
    "    \"\"\"\n",
    "\n",
    "    return 2 * x\n",
    "\n",
    "def f(x_n,root_to_solve):\n",
    "    \"\"\" Compute f(x_n)\n",
    "\n",
    "    Args:\n",
    "        x_n (float): the value to compute f(x_n) for\n",
    "        root_to_solve (float): the root the function is solving for (ex: 9 for (sqrt(9))\n",
    "    \"\"\"\n",
    "\n",
    "    return x_n - (g(x_n,root_to_solve)/g_prime(x_n))\n",
    "\n",
    "def f_prime(x_n,root_to_solve):\n",
    "    \"\"\"Compute f'(x_n)\n",
    "\n",
    "    Args:\n",
    "        x_n (float): the value to compute f(x_n) for\n",
    "        root_to_solve (float): the root the function is solving for (ex: 9 for (sqrt(9))\n",
    "    \"\"\"\n",
    "\n",
    "    return (1/2) - (root_to_solve/(2*x_n*x_n))\n",
    "\n",
    "def compute_gamma(root_to_solve):\n",
    "    \"\"\"Compute a value for gamma\n",
    "\n",
    "    Args:\n",
    "        root_to_solve (float): the root the function is solving for (ex: 9 for (sqrt(9))\n",
    "    \"\"\"\n",
    "    return f_prime(root_to_solve,root_to_solve)\n",
    "\n",
    "def sqrt_solve(root_to_solve, tolerance):\n",
    "    \"\"\" Solve for the square root of the given value using Newton's method for the given tolerance\n",
    "\n",
    "    Args:\n",
    "        root_to_solve (float): the value to obtain the square root of\n",
    "        tolerance (float): the tolerance to solve within\n",
    "    \"\"\"\n",
    "\n",
    "    #initialize x_1 = root_to_solve to be the first x_n\n",
    "    x_n = root_to_solve\n",
    "    x_n_plus_1 = f(x_n,root_to_solve)\n",
    "    \n",
    "    #initialize gamma\n",
    "    gamma = compute_gamma(root_to_solve)\n",
    "\n",
    "    #check if solved on the first iteration\n",
    "    if ((x_n - x_n_plus_1) * gamma/(1 - gamma)) <= tolerance:\n",
    "        solved = True\n",
    "    else:\n",
    "        solved = False\n",
    "\n",
    "    #loop until solved\n",
    "    while not solved:\n",
    "        x_n = x_n_plus_1\n",
    "        x_n_plus_1 = f(x_n,root_to_solve)\n",
    "\n",
    "        #check if solved\n",
    "        if ((x_n - x_n_plus_1) * gamma/(1 - gamma)) <= tolerance:\n",
    "            solved = True\n",
    "        else:\n",
    "            solved = False\n",
    "    \n",
    "    return x_n_plus_1\n",
    "\n",
    "root_2 = sqrt_solve(root_to_solve=2,tolerance= 10 ** (-3))\n",
    "root_3 = sqrt_solve(root_to_solve=3,tolerance= 10 ** (-3))\n",
    "root_4 = sqrt_solve(root_to_solve=4,tolerance= 10 ** (-3))\n",
    "\n",
    "txt = \"sqrt(2) = {}\\nsqrt(3) = {}\\nsqrt(4) = {}\\n\".format(root_2,root_3,root_4)\n",
    "print(txt)"
   ]
  }
 ],
 "metadata": {
  "kernelspec": {
   "display_name": "Python 3.9.12 ('base')",
   "language": "python",
   "name": "python3"
  },
  "language_info": {
   "codemirror_mode": {
    "name": "ipython",
    "version": 3
   },
   "file_extension": ".py",
   "mimetype": "text/x-python",
   "name": "python",
   "nbconvert_exporter": "python",
   "pygments_lexer": "ipython3",
   "version": "3.9.12"
  },
  "orig_nbformat": 4,
  "vscode": {
   "interpreter": {
    "hash": "a05f93782d31fb45d30263a0389582a01d7e14abf3ec6aacde92652303ee35ce"
   }
  }
 },
 "nbformat": 4,
 "nbformat_minor": 2
}
