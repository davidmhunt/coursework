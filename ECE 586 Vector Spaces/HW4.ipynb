{
 "cells": [
  {
   "cell_type": "code",
   "execution_count": 14,
   "metadata": {},
   "outputs": [
    {
     "name": "stdout",
     "output_type": "stream",
     "text": [
      "[[ 0.375 -0.25   0.375]\n",
      " [ 0.25   0.    -0.25 ]\n",
      " [ 0.125  0.25   0.125]]\n"
     ]
    }
   ],
   "source": [
    "import numpy as np\n",
    "\n",
    "A = np.array([\n",
    "    [1,2,1,0],\n",
    "    [-1,0,3,5],\n",
    "    [1,-2,1,1]])\n",
    "\n",
    "P1 = np.array([\n",
    "    [1,0,0],\n",
    "    [1,1,0],\n",
    "    [1,0,-1]])\n",
    "\n",
    "R = np.matmul(P1,A)\n",
    "\n",
    "P2 = np.array([\n",
    "    [1,0,0],\n",
    "    [0,0.5,0],\n",
    "    [0,1,-0.5]])\n",
    "\n",
    "R = np.matmul(P2,R)\n",
    "\n",
    "P3 = np.array([\n",
    "    [1,0,0],\n",
    "    [0,1,0],\n",
    "    [0,0,1/4]])\n",
    "R = np.matmul(P3,R)\n",
    "\n",
    "P4 = np.array([\n",
    "    [1,0,-1],\n",
    "    [0,1,-2],\n",
    "    [0,0,1]])\n",
    "R = np.matmul(P4,R)\n",
    "\n",
    "P5 = np.array([\n",
    "    [1,-2,0],\n",
    "    [0,1,0],\n",
    "    [0,0,1]])\n",
    "R = np.matmul(P5,R)\n",
    "\n",
    "#print(R)\n",
    "\n",
    "P = np.matmul(P2,P1)\n",
    "P = np.matmul(P3,P)\n",
    "P = np.matmul(P4,P)\n",
    "P = np.matmul(P5,P)\n",
    "print(P)\n",
    "\n",
    "R = np.matmul(P,A)\n",
    "#print(R)"
   ]
  }
 ],
 "metadata": {
  "kernelspec": {
   "display_name": "Python 3.9.7 ('base')",
   "language": "python",
   "name": "python3"
  },
  "language_info": {
   "codemirror_mode": {
    "name": "ipython",
    "version": 3
   },
   "file_extension": ".py",
   "mimetype": "text/x-python",
   "name": "python",
   "nbconvert_exporter": "python",
   "pygments_lexer": "ipython3",
   "version": "3.9.7"
  },
  "orig_nbformat": 4,
  "vscode": {
   "interpreter": {
    "hash": "e68eed1f3184a3f6121c9a05bed76e964637a46c7a3fc957d7e9d6f6ef4db70d"
   }
  }
 },
 "nbformat": 4,
 "nbformat_minor": 2
}
