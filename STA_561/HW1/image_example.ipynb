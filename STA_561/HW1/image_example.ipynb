{
 "cells": [
  {
   "cell_type": "markdown",
   "metadata": {
    "collapsed": true,
    "pycharm": {
     "name": "#%% md\n"
    }
   },
   "source": [
    "# Preparing our fraudulent regression example\n",
    "Here we'll import the fraud picture, transform it\n",
    "to a binary matrix and then create our regression\n",
    "data set.  The calculations here are derived\n",
    "from Stefanski's American Statistician Paper\n",
    "(https://www4.stat.ncsu.edu/~stefanski/NSF_Supported/Hidden_Images/Residual_Surrealism_TAS_2007.pdf)\n"
   ]
  },
  {
   "cell_type": "code",
   "execution_count": 1,
   "metadata": {
    "collapsed": false,
    "pycharm": {
     "name": "#%%\n"
    }
   },
   "outputs": [
    {
     "ename": "FileNotFoundError",
     "evalue": "[Errno 2] No such file or directory: 'unc_smells.jpg'",
     "output_type": "error",
     "traceback": [
      "\u001b[0;31m---------------------------------------------------------------------------\u001b[0m",
      "\u001b[0;31mFileNotFoundError\u001b[0m                         Traceback (most recent call last)",
      "\u001b[0;32m/tmp/ipykernel_8572/440690334.py\u001b[0m in \u001b[0;36m<module>\u001b[0;34m\u001b[0m\n\u001b[1;32m     11\u001b[0m \u001b[0;31m# Read image as grayscale and downscale by factor of seven\u001b[0m\u001b[0;34m\u001b[0m\u001b[0;34m\u001b[0m\u001b[0m\n\u001b[1;32m     12\u001b[0m fraud_img = np.array(\n\u001b[0;32m---> 13\u001b[0;31m     \u001b[0mImage\u001b[0m\u001b[0;34m.\u001b[0m\u001b[0mopen\u001b[0m\u001b[0;34m(\u001b[0m\u001b[0;34m\"unc_smells.jpg\"\u001b[0m\u001b[0;34m)\u001b[0m\u001b[0;34m.\u001b[0m\u001b[0mconvert\u001b[0m\u001b[0;34m(\u001b[0m\u001b[0;34m'L'\u001b[0m\u001b[0;34m)\u001b[0m\u001b[0;34m\u001b[0m\u001b[0;34m\u001b[0m\u001b[0m\n\u001b[0m\u001b[1;32m     14\u001b[0m )[0::10, 0::10]\n\u001b[1;32m     15\u001b[0m \u001b[0mpixel_threshold\u001b[0m \u001b[0;34m=\u001b[0m \u001b[0;36m100\u001b[0m\u001b[0;34m\u001b[0m\u001b[0;34m\u001b[0m\u001b[0m\n",
      "\u001b[0;32m~/anaconda3/lib/python3.9/site-packages/PIL/Image.py\u001b[0m in \u001b[0;36mopen\u001b[0;34m(fp, mode, formats)\u001b[0m\n\u001b[1;32m   3090\u001b[0m \u001b[0;34m\u001b[0m\u001b[0m\n\u001b[1;32m   3091\u001b[0m     \u001b[0;32mif\u001b[0m \u001b[0mfilename\u001b[0m\u001b[0;34m:\u001b[0m\u001b[0;34m\u001b[0m\u001b[0;34m\u001b[0m\u001b[0m\n\u001b[0;32m-> 3092\u001b[0;31m         \u001b[0mfp\u001b[0m \u001b[0;34m=\u001b[0m \u001b[0mbuiltins\u001b[0m\u001b[0;34m.\u001b[0m\u001b[0mopen\u001b[0m\u001b[0;34m(\u001b[0m\u001b[0mfilename\u001b[0m\u001b[0;34m,\u001b[0m \u001b[0;34m\"rb\"\u001b[0m\u001b[0;34m)\u001b[0m\u001b[0;34m\u001b[0m\u001b[0;34m\u001b[0m\u001b[0m\n\u001b[0m\u001b[1;32m   3093\u001b[0m         \u001b[0mexclusive_fp\u001b[0m \u001b[0;34m=\u001b[0m \u001b[0;32mTrue\u001b[0m\u001b[0;34m\u001b[0m\u001b[0;34m\u001b[0m\u001b[0m\n\u001b[1;32m   3094\u001b[0m \u001b[0;34m\u001b[0m\u001b[0m\n",
      "\u001b[0;31mFileNotFoundError\u001b[0m: [Errno 2] No such file or directory: 'unc_smells.jpg'"
     ]
    }
   ],
   "source": [
    "from PIL import Image\n",
    "import numpy as np\n",
    "import numpy.random as nr\n",
    "from scipy.linalg import sqrtm, pinv\n",
    "from matplotlib import pyplot as plt\n",
    "from sklearn import linear_model\n",
    "from sklearn.preprocessing import scale\n",
    "import pandas as pd\n",
    "from pandas.plotting import scatter_matrix\n",
    "\n",
    "# Read image as grayscale and downscale by factor of seven\n",
    "fraud_img = np.array(\n",
    "    Image.open(\"unc_smells.jpg\").convert('L')\n",
    ")[0::10, 0::10]\n",
    "pixel_threshold = 100\n",
    "binary_fraud_img = np.array(fraud_img < pixel_threshold)\n",
    "\n",
    "# Compute y_hat, residual pairs\n",
    "n = binary_fraud_img.shape[0]\n",
    "nonzero_ind = [(i,j) for i in range(n) for j in range(n) if binary_fraud_img[n-i-1,j]]\n",
    "fitted_values = np.array([x[1] for x in nonzero_ind])\n",
    "residuals = np.array([x[0] for x in nonzero_ind])\n",
    "plt.scatter(fitted_values, residuals)\n",
    "plt.show()"
   ]
  },
  {
   "cell_type": "code",
   "execution_count": 2,
   "metadata": {
    "collapsed": false,
    "pycharm": {
     "name": "#%%\n"
    }
   },
   "outputs": [],
   "source": [
    "## Compute X, Y so that regression coeffs are target beta\n",
    "## and corr among X are AR(\\rho)\n",
    "sample_size = len(residuals)\n",
    "Y = fitted_values + residuals\n",
    "res_projection = np.identity(sample_size) - \\\n",
    "                 np.outer(residuals, residuals)/np.dot(residuals, residuals)\n",
    "fit_projection = np.identity(sample_size) - \\\n",
    "                 np.outer(fitted_values, fitted_values)/np.dot(fitted_values, fitted_values)\n",
    "\n",
    "p = 16 # Dimension of linear model\n",
    "M = nr.randn(sample_size*p).reshape((sample_size, p))\n",
    "X = scale(np.hstack((\n",
    "    fitted_values.reshape((sample_size, 1)),\n",
    "    np.dot(np.dot(res_projection, fit_projection), M)\n",
    ")))"
   ]
  },
  {
   "cell_type": "code",
   "execution_count": 3,
   "metadata": {
    "collapsed": false,
    "pycharm": {
     "name": "#%%\n"
    }
   },
   "outputs": [],
   "source": [
    "target_beta = np.ones(p+1)*0.5\n",
    "target_beta[0:5] = np.array([3.24, 3, 5, -4, 1])\n",
    "rho = 0.5\n",
    "target_correlation = np.identity(p+1)\n",
    "for i in range(p+1):\n",
    "    for j in range(i):\n",
    "        target_correlation[i,j] = rho**np.abs(i-j)\n",
    "        target_correlation[j,i] = target_correlation[i,j]\n",
    "target_correlation_sqrt = sqrtm(target_correlation)"
   ]
  },
  {
   "cell_type": "code",
   "execution_count": 4,
   "metadata": {
    "collapsed": false,
    "pycharm": {
     "name": "#%%\n"
    }
   },
   "outputs": [],
   "source": [
    "Q1 = (nr.randn((p+1)**2)).reshape((p+1,p+1))\n",
    "X1 = np.dot(X, Q1)\n",
    "Q2 = np.sqrt(sample_size)*np.dot(\n",
    "    pinv(sqrtm(np.dot(np.transpose(X1), X1))),\n",
    "    target_correlation_sqrt\n",
    "    )\n",
    "X2 = np.dot(X1, Q2)\n",
    "X2_lm_fit = linear_model.LinearRegression().fit(X2, Y)\n",
    "X2_beta_hat = X2_lm_fit.coef_\n",
    "Q3 = np.dot(np.diag(X2_beta_hat), np.diag(1/target_beta))"
   ]
  },
  {
   "cell_type": "code",
   "execution_count": 5,
   "metadata": {
    "collapsed": false,
    "pycharm": {
     "name": "#%%\n"
    }
   },
   "outputs": [
    {
     "ename": "NameError",
     "evalue": "name 'X_final' is not defined",
     "output_type": "error",
     "traceback": [
      "\u001b[1;31m---------------------------------------------------------------------------\u001b[0m",
      "\u001b[1;31mNameError\u001b[0m                                 Traceback (most recent call last)",
      "\u001b[1;32m<ipython-input-5-7590fc92669d>\u001b[0m in \u001b[0;36m<module>\u001b[1;34m\u001b[0m\n\u001b[0;32m      1\u001b[0m \u001b[1;31m# Check results\u001b[0m\u001b[1;33m\u001b[0m\u001b[1;33m\u001b[0m\u001b[1;33m\u001b[0m\u001b[0m\n\u001b[1;32m----> 2\u001b[1;33m \u001b[0mlm_fit\u001b[0m \u001b[1;33m=\u001b[0m \u001b[0mlinear_model\u001b[0m\u001b[1;33m.\u001b[0m\u001b[0mLinearRegression\u001b[0m\u001b[1;33m(\u001b[0m\u001b[1;33m)\u001b[0m\u001b[1;33m.\u001b[0m\u001b[0mfit\u001b[0m\u001b[1;33m(\u001b[0m\u001b[0mX_final\u001b[0m\u001b[1;33m,\u001b[0m \u001b[0mY\u001b[0m\u001b[1;33m)\u001b[0m\u001b[1;33m\u001b[0m\u001b[1;33m\u001b[0m\u001b[0m\n\u001b[0m\u001b[0;32m      3\u001b[0m \u001b[0mlm_fitted\u001b[0m \u001b[1;33m=\u001b[0m \u001b[0mlm_fit\u001b[0m\u001b[1;33m.\u001b[0m\u001b[0mpredict\u001b[0m\u001b[1;33m(\u001b[0m\u001b[0mX_final\u001b[0m\u001b[1;33m)\u001b[0m\u001b[1;33m\u001b[0m\u001b[1;33m\u001b[0m\u001b[0m\n\u001b[0;32m      4\u001b[0m \u001b[0mlm_residuals\u001b[0m \u001b[1;33m=\u001b[0m \u001b[0mY\u001b[0m \u001b[1;33m-\u001b[0m \u001b[0mlm_fitted\u001b[0m\u001b[1;33m\u001b[0m\u001b[1;33m\u001b[0m\u001b[0m\n\u001b[0;32m      5\u001b[0m \u001b[0mplt\u001b[0m\u001b[1;33m.\u001b[0m\u001b[0mscatter\u001b[0m\u001b[1;33m(\u001b[0m\u001b[0mlm_fitted\u001b[0m\u001b[1;33m,\u001b[0m \u001b[0mlm_residuals\u001b[0m\u001b[1;33m,\u001b[0m \u001b[0ms\u001b[0m\u001b[1;33m=\u001b[0m\u001b[1;36m1\u001b[0m\u001b[1;33m)\u001b[0m\u001b[1;33m\u001b[0m\u001b[1;33m\u001b[0m\u001b[0m\n",
      "\u001b[1;31mNameError\u001b[0m: name 'X_final' is not defined"
     ]
    }
   ],
   "source": [
    "# Check results\n",
    "lm_fit = linear_model.LinearRegression().fit(X_final, Y)\n",
    "lm_fitted = lm_fit.predict(X_final)\n",
    "lm_residuals = Y - lm_fitted\n",
    "plt.scatter(lm_fitted, lm_residuals, s=1)\n",
    "plt.show()"
   ]
  },
  {
   "cell_type": "code",
   "execution_count": null,
   "metadata": {
    "collapsed": false,
    "pycharm": {
     "name": "#%%\n"
    }
   },
   "outputs": [],
   "source": [
    "df = pd.DataFrame(np.hstack((\n",
    "    Y.reshape(sample_size, 1), X_final\n",
    ")))\n",
    "scatter_matrix(df, s=0.5, figsize=(10,10))\n",
    "plt.show()\n",
    "\n",
    "## Give columns names to make it more realistic\n",
    "df.columns = [\"survival_normalized\",\n",
    "              *[\"g\" + str(i) for i in range(p+1)]]\n",
    "df.to_csv(\"lineberger_study_data.csv\", sep=\",\")"
   ]
  }
 ],
 "metadata": {
  "kernelspec": {
   "display_name": "base",
   "language": "python",
   "name": "python3"
  },
  "language_info": {
   "codemirror_mode": {
    "name": "ipython",
    "version": 3
   },
   "file_extension": ".py",
   "mimetype": "text/x-python",
   "name": "python",
   "nbconvert_exporter": "python",
   "pygments_lexer": "ipython3",
   "version": "3.9.13 (main, Aug 25 2022, 23:26:10) \n[GCC 11.2.0]"
  },
  "vscode": {
   "interpreter": {
    "hash": "a05f93782d31fb45d30263a0389582a01d7e14abf3ec6aacde92652303ee35ce"
   }
  }
 },
 "nbformat": 4,
 "nbformat_minor": 0
}
