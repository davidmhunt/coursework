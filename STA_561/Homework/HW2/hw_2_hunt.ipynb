{
 "cells": [
  {
   "cell_type": "code",
   "execution_count": 1,
   "metadata": {},
   "outputs": [],
   "source": [
    "import numpy as np\n",
    "from sklearn.linear_model import Ridge, Lasso\n",
    "from sklearn.metrics import mean_squared_error, r2_score\n",
    "import pandas as pd\n",
    "import matplotlib.pyplot as plt\n",
    "import pandas as pd"
   ]
  },
  {
   "attachments": {},
   "cell_type": "markdown",
   "metadata": {},
   "source": [
    "## Problem 2\n",
    "\n",
    "## Define functions to generate a specific data set"
   ]
  },
  {
   "cell_type": "code",
   "execution_count": 8,
   "metadata": {},
   "outputs": [],
   "source": [
    "def generate_signal(n=100,p=10,rho = 0,R2 = 0.8,use_sparse_beta=True):\n",
    "\n",
    "    #define beta\n",
    "    if use_sparse_beta:\n",
    "        Beta = compute_sparse_beta(n,p)\n",
    "    else:\n",
    "        Beta = compute_dense_beta\n",
    "    Beta = np.zeros((p,1))\n",
    "\n",
    "\n",
    "    X = np.array([0,0,0])\n",
    "    y= np.array([0,0,0])\n",
    "    return X,y,Beta\n",
    "\n",
    "def compute_sparse_beta(n = 100,p = 10):\n",
    "    \"\"\"Compute Beta* for the sparse signal\n",
    "\n",
    "    Args:\n",
    "        n (int, optional): number of samples. Defaults to 100.\n",
    "        p (int, optional): dimmension (number of parameters). Defaults to 10.\n",
    "\n",
    "    Returns:\n",
    "        _type_: Beta* (np.array with size nxp)\n",
    "    \"\"\"\n",
    "    #define helper variables\n",
    "    sqrt_n = np.sqrt(n)\n",
    "    sqrt_p = np.sqrt(p)\n",
    "    max_j = np.floor(sqrt_p).astype(int)\n",
    "\n",
    "    #compute beta\n",
    "    Beta = np.zeros((p,1))\n",
    "    Beta[0:max_j] = 2/np.sqrt(n)\n",
    "\n",
    "    return Beta\n",
    "\n",
    "def compute_dense_beta(n= 100,p = 10):\n",
    "    \"\"\"Compute Beta* for the dense signal\n",
    "\n",
    "    Args:\n",
    "        n (int, optional): number of samples. Defaults to 100.\n",
    "        p (int, optional): dimmension (number of parameters). Defaults to 10.\n",
    "\n",
    "    Returns:\n",
    "        _type_: Beta* (np.array with size nxp)\n",
    "    \"\"\"\n",
    "    sqrt_n = np.sqrt(n)\n",
    "\n",
    "    Beta = np.zeros((p,1))\n",
    "    for j in range(0,p):\n",
    "        Beta[j] = 5/((j+1)*sqrt_n)\n",
    "    \n",
    "    return Beta\n",
    "\n",
    "def compute_sigma(p = 10, rho = 0):\n",
    "    \n",
    "    #define the covariance matrix\n",
    "    Sigma = np.full((p,p),rho)\n",
    "    powers = np.zeros((p,p))\n",
    "\n",
    "    cols = np.arange(1,p+1,1)\n",
    "\n",
    "    for row in range(p):\n",
    "        powers[row,:] = row + 1 - cols\n",
    "    \n",
    "    powers = np.abs(powers)\n",
    "    Sigma = np.power(Sigma,powers)\n",
    "\n",
    "    return Sigma\n",
    "\n",
    "Sigma = compute_sigma(10,0.25)"
   ]
  }
 ],
 "metadata": {
  "kernelspec": {
   "display_name": "STA561",
   "language": "python",
   "name": "python3"
  },
  "language_info": {
   "codemirror_mode": {
    "name": "ipython",
    "version": 3
   },
   "file_extension": ".py",
   "mimetype": "text/x-python",
   "name": "python",
   "nbconvert_exporter": "python",
   "pygments_lexer": "ipython3",
   "version": "3.9.16"
  },
  "orig_nbformat": 4,
  "vscode": {
   "interpreter": {
    "hash": "5ff78712972ad1d9723777b77156440718eac6d60d034e137fcbf0563820b527"
   }
  }
 },
 "nbformat": 4,
 "nbformat_minor": 2
}
