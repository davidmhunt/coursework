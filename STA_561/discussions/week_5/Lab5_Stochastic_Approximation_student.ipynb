{
 "cells": [
  {
   "cell_type": "markdown",
   "metadata": {},
   "source": [
    "# STA 561 Lab 6: Stochastic Approximation\n",
    "\n",
    "## Adapted from the Lab Notebook Created by Vinayak Gupta\n",
    "## Prepared by Jiachang Liu\n",
    "\n",
    "Main objectives:\n",
    "- Overview of Stochastic Approximation\n",
    "- Robbins–Monro Algorithm\n",
    "- Kiefer–Wolfowitz Algorithm\n",
    "- Stochastic Gradient Descent\n",
    "\n",
    "Additional Resources:\n",
    "- https://projecteuclid.org/journals/annals-of-mathematical-statistics/volume-22/issue-3/A-Stochastic-Approximation-Method/10.1214/aoms/1177729586.full\n",
    "- https://projecteuclid.org/journals/annals-of-mathematical-statistics/volume-23/issue-3/Stochastic-Estimation-of-the-Maximum-of-a-Regression-Function/10.1214/aoms/1177729392.full\n",
    "- https://scikit-learn.org/stable/modules/generated/sklearn.linear_model.SGDRegressor.html\n",
    "- https://en.wikipedia.org/wiki/Stochastic_approximation#Robbins–Monro_algorithm\n",
    "- https://en.wikipedia.org/wiki/Stochastic_approximation#Kiefer–Wolfowitz_algorithm\n",
    "- https://en.wikipedia.org/wiki/Stochastic_gradient_descent\n",
    "- https://www.geeksforgeeks.org/ml-stochastic-gradient-descent-sgd/"
   ]
  },
  {
   "cell_type": "markdown",
   "metadata": {},
   "source": [
    "### 1. Overview of Stochastic Approximation "
   ]
  },
  {
   "cell_type": "markdown",
   "metadata": {},
   "source": [
    "Stochastic approximation algorithms are recursive update rules that can be used to approximately solve optimization problems and linear systems when the collected data is subject to noise. It is often used when you do not have a mathematical model of the system (or is very complex) but still would like to optimize its behavior by adjusting certain parameters. \n",
    "\n",
    "In a nutshell, stochastic approximation algorithms deal with a function of the form $f(\\theta)=E_{\\xi} ⁡ [ F ( \\theta , \\xi ) ]$ which is the expected value of a function depending on a random variable $\\xi$. The goal is to recover properties of such a function f without evaluating it directly. Instead, stochastic approximation algorithms use random samples of $F (\\theta , \\xi )$ to efficiently approximate properties of $f$ such as zeros or extrema.\n",
    "\n",
    "In this lab, we would briefly discuss some of the older stochastic approximation algorithms like Robbins-Monro and Kiefer-Wolfowitz followed by the more recent and commonly used Stochastic Gradient Descent"
   ]
  },
  {
   "cell_type": "markdown",
   "metadata": {},
   "source": [
    "### 2. Robbins-Monro Algorithm"
   ]
  },
  {
   "cell_type": "markdown",
   "metadata": {},
   "source": [
    "In 1951, Robbins and Monro published one of the earliest stochastic approximation algorithm which provided a way to find the root of a nondecreasing function. \n",
    "\n",
    "Assume that we have a function $M(\\theta)$, and a constant $\\alpha$, such that the equation $M ( \\theta) = \\alpha$ has a unique root at $\\theta^∗$. It is assumed that while we cannot directly observe the function $M(\\theta)$, we can instead obtain measurements of the random variable $N(\\theta)$ where $E[N(\\theta)] = M (\\theta )$. The structure of the algorithm is to then generate iterates of the form: \n",
    "\n",
    "$$\\theta_{n+1}=\\theta_n - a_n(N(\\theta_n) - \\alpha)$$\n",
    "\n",
    "where  $a_1,a_2,\\dots$ is a sequence of positive step sizes. Robbins and Monro prove that $\\theta_n$  converges in mean square (hence also in probability) to $\\theta^∗$ if the following conditions are satisfied:\n",
    "\n",
    "* $N (\\theta)$ is uniformly bounded ($\\lvert N(\\theta)\\rvert \\leq c$ for some $c$. https://en.wikipedia.org/wiki/Uniform_boundedness)\n",
    "* $M (\\theta )$ is nondecreasing\n",
    "* $M′ (\\theta^∗ )$ exists and is positive\n",
    "* The sequence $a_n$ satisfies the following requirements:\n",
    "\n",
    "     $$\\qquad \\sum^{\\infty}_{n=0}a_n = \\infty \\quad \\text{ and } \\quad \\sum^{\\infty}_{n=0}a^2_n < \\infty \\quad $$\n",
    "\n",
    "A particular sequence of steps which satisfy these conditions, and was suggested by Robbins–Monro, have the form: $a_n = a/n$ , for $a > 0$.\n"
   ]
  },
  {
   "cell_type": "markdown",
   "metadata": {},
   "source": [
    "**Example: Approximate solution for Sigmoid function using Robbins-Monro Algorithm**\n",
    "\n",
    "Find $x$ such that $1/(1+e^{-x}) = 0.5$"
   ]
  },
  {
   "cell_type": "code",
   "execution_count": 4,
   "metadata": {},
   "outputs": [
    {
     "name": "stdout",
     "output_type": "stream",
     "text": [
      "Final theta estimate is :  0.0031604830301230668\n"
     ]
    },
    {
     "data": {
      "image/png": "[encoded data removed]",
      "text/plain": [
       "<Figure size 432x288 with 1 Axes>"
      ]
     },
     "metadata": {
      "needs_background": "light"
     },
     "output_type": "display_data"
    }
   ],
   "source": [
    "import numpy as np\n",
    "import math\n",
    "import matplotlib.pyplot as plt\n",
    "\n",
    "def fn_N(theta):\n",
    "    pass\n",
    "\n",
    "def next_theta(theta,alpha,step_size): \n",
    "    theta_next = theta - step_size(fn_N(theta) - alpha)\n",
    "    pass\n",
    "\n",
    "theta = -5 #Initial theta\n",
    "alpha = 0.5 # Find x s.t. 1/(1+ exp(-x))= 0.5  => x = 0\n",
    "thetas=[theta] #\n",
    "\n",
    "for iterations in range(1,10**5):\n",
    "    step_size= 3/iterations\n",
    "    theta = next_theta(theta,alpha,step_size)\n",
    "    thetas.append(theta)\n",
    "\n",
    "plt.plot(range(10**5),thetas)\n",
    "plt.xlabel(\"Iteration number\")\n",
    "plt.ylabel(\"Theta estimate\")\n",
    "print(\"Final theta estimate is : \",theta)"
   ]
  },
  {
   "cell_type": "markdown",
   "metadata": {},
   "source": [
    "As we can see, all the conditions for Robbins-Monro algorithm are satisfied:\n",
    "\n",
    "* sigmoid function $M(\\theta)$ is a nondecreasing function\n",
    "* $N(\\theta)$ is a noisy version of sigmoid function and is uniformly bounded\n",
    "* Derivative of sigmoid function at $\\theta^*$ is non zero\n",
    "* The sequences $a_n$ satisfy the given requirements"
   ]
  },
  {
   "cell_type": "markdown",
   "metadata": {},
   "source": [
    "The asymptotically optimal convergence rate for the algorithm is $O(1/ \\sqrt{n})$ for the general case. This can be speeden up to $O(1/n)$ in case the function is twice continuously differentiable and strongly convex. While theoretically this bound of $O(1/n)$  is fast, it can perform quite poorly upon implementation. This is primarily due to the fact that the algorithm is very sensitive to the choice of the step size sequence, and the supposed asymptotically optimal step size policy can be quite harmful in the beginning."
   ]
  },
  {
   "cell_type": "markdown",
   "metadata": {},
   "source": [
    "### 3. Kiefer–Wolfowitz Algorithm "
   ]
  },
  {
   "cell_type": "markdown",
   "metadata": {},
   "source": [
    "The Kiefer–Wolfowitz algorithm was introduced in 1952 by Jacob Wolfowitz and Jack Kiefer and was motivated by the Robbins–Monro algorithm. The algorithm was presented as a method which would stochastically estimate the maximum of a function.\n",
    "\n",
    "Let $M(x)$ be a function which has a maximum at the point $\\theta $. It is assumed that $M(x)$ is unknown; however, certain observations $N(x)$, where $E[N(x)] = M(x)$, can be made at any point $x$. The structure of the algorithm follows a gradient-like method, with the iterates being generated as follows:\n",
    "\n",
    "$$x_{n+1} = x_n + a_n \\bigg(\\frac{N(x_n + c_n) - N(x_n -c_n)}{2 c_n} \\bigg)$$\n",
    "\n",
    "where $N(x_n + c_n)$ and $N(x_n - c_n)$ are independent, and the gradient of $M(x)$ is approximated using finite differences (https://en.wikipedia.org/wiki/Finite_difference). The sequence $\\{c_n\\}$ specifies the sequence of finite difference widths used for the gradient approximation, while the sequence $\\{a_n\\}$ specifies a sequence of positive step sizes taken along that direction. Kiefer and Wolfowitz proved that, if $M(x)$ satisfied certain regularity conditions, then $x_n$ will converge to $\\theta$ in probability as $n\\to\\infty$, and later Blum in 1954 showed $x_n$ converges to $\\theta$ almost surely, provided that:\n",
    "\n",
    "* $Var(N(x))\\le S<\\infty$ for all $x$.\n",
    "<br/><br/>\n",
    "* The function $M(x)$ has a unique point of maximum (minimum) and is strongly concave (convex) (see strongly convexity https://en.wikipedia.org/wiki/Convex_function#Strongly_convex_functions)\n",
    "<br/><br/>\n",
    "* The function $M(x)$ satisfies the regularity conditions as follows:\n",
    "\n",
    "    * There exists $\\beta>0$ and $B>0$ such that $$|x'-\\theta|+|x''-\\theta|<\\beta \\quad \\Longrightarrow \\quad |M(x')-M(x'')|<B|x'-x''|$$\n",
    "    \n",
    "    * There exists $ \\rho>0$ and $ R>0 $ such that $$|x'-x''|<\\rho \\quad \\Longrightarrow \\quad |M(x')-M(x'')|<R$$ \n",
    "    \n",
    "    * For every $ \\delta>0 $, there exists some $\\pi(\\delta)>0 $ such that $$|z-\\theta|>\\delta \\quad \\Longrightarrow \\quad \\inf_{\\delta/2>\\varepsilon>0}\\frac{|M(z+\\varepsilon)-M(z-\\varepsilon)|}{\\varepsilon}>\\pi(\\delta)$$\n",
    "    \n",
    "\n",
    "* The selected sequences $\\{a_n\\}$ and $\\{c_n\\}$ must be infinite sequences of positive numbers such that\n",
    "\n",
    "    * $ c_n \\rightarrow 0\\quad \\text{as}\\quad n\\to\\infty $\n",
    "    * $ \\sum^\\infty_{n=0} a_n =\\infty $\n",
    "    * $ \\sum^\\infty_{n=0} a_nc_n <\\infty $\n",
    "    * $ \\sum^\\infty_{n=0} a_n^2c_n^{-2} <\\infty $\n",
    "\n",
    "A suitable choice of sequences, as recommended by Kiefer and Wolfowitz, would be $a_n = 1/n$ and $c_n = n^{-1/3}$.\n"
   ]
  },
  {
   "cell_type": "markdown",
   "metadata": {},
   "source": [
    "**Example: Approximate maximum for negative squared function using Kiefer–Wolfowitz Algorithm**"
   ]
  },
  {
   "cell_type": "code",
   "execution_count": 5,
   "metadata": {},
   "outputs": [
    {
     "name": "stderr",
     "output_type": "stream",
     "text": [
      "/usr/xtmp/jl888/anaconda3/envs/ADTree/lib/python3.8/site-packages/numpy/core/shape_base.py:65: VisibleDeprecationWarning: Creating an ndarray from ragged nested sequences (which is a list-or-tuple of lists-or-tuples-or ndarrays with different lengths or shapes) is deprecated. If you meant to do this, you must specify 'dtype=object' when creating the ndarray.\n",
      "  ary = asanyarray(ary)\n"
     ]
    },
    {
     "name": "stdout",
     "output_type": "stream",
     "text": [
      "Final X estimate is :  [2.07793013]\n"
     ]
    },
    {
     "data": {
      "image/png": "[encoded data removed]",
      "text/plain": [
       "<Figure size 432x288 with 1 Axes>"
      ]
     },
     "metadata": {
      "needs_background": "light"
     },
     "output_type": "display_data"
    }
   ],
   "source": [
    "def fn_N(x):\n",
    "    pass\n",
    "\n",
    "def next_x(x,a_n,c_n): \n",
    "    pass\n",
    "\n",
    "x = -5 #Initial x\n",
    "xs=[x] #\n",
    "\n",
    "for iterations in range(1,10**5):\n",
    "    a_n= 1/iterations\n",
    "    c_n = iterations**(-1/3) \n",
    "    x = next_x(x,a_n,c_n)\n",
    "    xs.append(x)\n",
    "\n",
    "plt.plot(range(10**5),xs)\n",
    "plt.xlabel(\"Iteration number\")\n",
    "plt.ylabel(\"X estimate\")\n",
    "print(\"Final X estimate is : \",x)"
   ]
  },
  {
   "cell_type": "markdown",
   "metadata": {},
   "source": [
    "All the conditions for Robbins-Monro algorithm are satisfied:\n",
    "\n",
    "* $Var(N(X)) = 1$\n",
    "* $M(X)$ has a unique point of maximum at $X=2$\n",
    "* $M(X)$ satisfies the regularity conditions\n",
    "* The sequences $a_n$ and $c_n$ satisfy the given requirements"
   ]
  },
  {
   "cell_type": "markdown",
   "metadata": {},
   "source": [
    "The Kiefer Wolfowitz algorithm requires that for each gradient computation, at least $d + 1$ different parameter values must be simulated for every iteration of the algorithm, where $d$ is the dimension of the search space. This means that when $d$ is large, the Kiefer–Wolfowitz algorithm will require substantial computational effort per iteration, leading to slow convergence. Also, the fact that the function be strongly convex/concave is fairly restrictive and highly unrealistic"
   ]
  },
  {
   "cell_type": "markdown",
   "metadata": {},
   "source": [
    "### 4. Stochastic Gradient Descent"
   ]
  },
  {
   "cell_type": "markdown",
   "metadata": {},
   "source": [
    "Stochastic gradient descent (often abbreviated SGD) is an iterative method for optimizing an objective function with suitable smoothness properties. It can be regarded as a stochastic approximation of gradient descent optimization, since it replaces the actual gradient (calculated from the entire data set) by an estimate thereof (calculated from a randomly selected subset of the data). Especially in high-dimensional optimization problems or when the datasets are huge, this reduces the computational burden, achieving faster iterations in trade for a lower convergence rate."
   ]
  },
  {
   "cell_type": "markdown",
   "metadata": {},
   "source": [
    "In SGD, we use only a single sample, i.e., a batch size of one, to perform each iteration. The sample is randomly shuffled and selected for performing the iteration. So, in SGD, we find out the gradient of the cost function of a single example at each iteration instead of the sum of the gradient of the cost function of all the examples (as in Gradient Descent). Suppose we are optimizing for function $Q$ on the parameters $w$ with learning rate $\\eta$, then:\n",
    "\n",
    "**Gradient Descent**: \n",
    " $$ w_{j+1} = w_j - \\frac{\\eta}{n} \\sum_{i=1}^n \\nabla Q_i(w),$$\n",
    " \n",
    " whereas,\n",
    " \n",
    " **Stochastic Gradient Descent**: \n",
    " $$ w_{j+1} = w_j - \\eta \\nabla Q_i(w),$$\n",
    "\n",
    "\n",
    "Since only one sample from the dataset is chosen at random for each iteration, the path taken by the algorithm to reach the minima is usually noisier than your typical Gradient Descent algorithm. But that doesn’t matter all that much because the path taken by the algorithm does not matter, as long as we reach the minima and with significantly shorter training time. This convergence of stochastic gradient descent has been analyzed using the theories of convex minimization and of stochastic approximation. Briefly, when the learning rates $\\eta$ decrease with an appropriate rate, and subject to relatively mild assumptions, stochastic gradient descent converges almost surely to a global minimum when the objective function is convex or pseudoconvex, and otherwise converges almost surely to a local minimum."
   ]
  },
  {
   "cell_type": "markdown",
   "metadata": {},
   "source": [
    "Left figure below shows a noisy though faster path followed by SGD while optimizing for a function whereas on the right, we can see a smooth slow path followed by GD.\n",
    "<img src=\"./SGDversusGD.PNG\">"
   ]
  },
  {
   "cell_type": "markdown",
   "metadata": {},
   "source": [
    "**SGD on Boston Housing Dataset using sklearn**"
   ]
  },
  {
   "cell_type": "code",
   "execution_count": 7,
   "metadata": {},
   "outputs": [],
   "source": [
    "from sklearn.datasets import load_boston\n",
    "from sklearn import preprocessing\n",
    "from sklearn.linear_model import SGDRegressor\n",
    "from sklearn import preprocessing\n",
    "from sklearn.metrics import mean_squared_error\n",
    "from numpy import random\n",
    "from sklearn.model_selection import train_test_split\n",
    "import pandas as pd\n",
    "import warnings\n",
    "warnings.filterwarnings(\"ignore\")"
   ]
  },
  {
   "cell_type": "code",
   "execution_count": 8,
   "metadata": {},
   "outputs": [
    {
     "name": "stdout",
     "output_type": "stream",
     "text": [
      "X Shape:  (506, 13)\n",
      "Y Shape:  (506,)\n",
      "X_Train Shape:  (354, 13)\n",
      "X_Test Shape:  (152, 13)\n",
      "Y_Train Shape:  (354,)\n",
      "Y_Test Shape:  (152,)\n"
     ]
    }
   ],
   "source": [
    "#Load and scale the data\n",
    "boston_data=pd.DataFrame(load_boston().data,columns=load_boston().feature_names)\n",
    "Y=load_boston().target\n",
    "X=load_boston().data\n",
    "x_train,x_test,y_train,y_test=train_test_split(X,Y,test_size=0.3)\n",
    "\n",
    "print(\"X Shape: \",X.shape)\n",
    "print(\"Y Shape: \",Y.shape)\n",
    "print(\"X_Train Shape: \",x_train.shape)\n",
    "print(\"X_Test Shape: \",x_test.shape)\n",
    "print(\"Y_Train Shape: \",y_train.shape)\n",
    "print(\"Y_Test Shape: \",y_test.shape)\n",
    "\n",
    "# standardizing data\n",
    "scaler = preprocessing.StandardScaler().fit(x_train)\n",
    "x_train = scaler.transform(x_train)\n",
    "x_test=scaler.transform(x_test)"
   ]
  },
  {
   "cell_type": "code",
   "execution_count": 9,
   "metadata": {
    "scrolled": false
   },
   "outputs": [
    {
     "name": "stdout",
     "output_type": "stream",
     "text": [
      "-- Epoch 1\n",
      "Norm: 4.43, NNZs: 13, Bias: 14.742055, T: 354, Avg. loss: 103.345357\n",
      "Total training time: 0.00 seconds.\n",
      "-- Epoch 2\n",
      "Norm: 5.02, NNZs: 13, Bias: 18.627488, T: 708, Avg. loss: 25.608032\n",
      "Total training time: 0.00 seconds.\n",
      "-- Epoch 3\n",
      "Norm: 5.34, NNZs: 13, Bias: 20.328266, T: 1062, Avg. loss: 14.199684\n",
      "Total training time: 0.00 seconds.\n",
      "-- Epoch 4\n",
      "Norm: 5.40, NNZs: 13, Bias: 21.125561, T: 1416, Avg. loss: 11.555711\n",
      "Total training time: 0.00 seconds.\n",
      "-- Epoch 5\n",
      "Norm: 5.56, NNZs: 13, Bias: 21.538302, T: 1770, Avg. loss: 10.767358\n",
      "Total training time: 0.00 seconds.\n",
      "-- Epoch 6\n",
      "Norm: 5.55, NNZs: 13, Bias: 21.775764, T: 2124, Avg. loss: 10.458798\n",
      "Total training time: 0.00 seconds.\n",
      "-- Epoch 7\n",
      "Norm: 5.66, NNZs: 13, Bias: 21.877041, T: 2478, Avg. loss: 10.317887\n",
      "Total training time: 0.00 seconds.\n",
      "-- Epoch 8\n",
      "Norm: 5.65, NNZs: 13, Bias: 21.955161, T: 2832, Avg. loss: 10.215312\n",
      "Total training time: 0.00 seconds.\n",
      "-- Epoch 9\n",
      "Norm: 5.69, NNZs: 13, Bias: 22.018884, T: 3186, Avg. loss: 10.130083\n",
      "Total training time: 0.00 seconds.\n",
      "-- Epoch 10\n",
      "Norm: 5.77, NNZs: 13, Bias: 22.033647, T: 3540, Avg. loss: 10.124457\n",
      "Total training time: 0.00 seconds.\n",
      "-- Epoch 11\n",
      "Norm: 5.92, NNZs: 13, Bias: 22.046976, T: 3894, Avg. loss: 9.995572\n",
      "Total training time: 0.00 seconds.\n",
      "-- Epoch 12\n",
      "Norm: 5.94, NNZs: 13, Bias: 22.064923, T: 4248, Avg. loss: 10.072835\n",
      "Total training time: 0.00 seconds.\n",
      "-- Epoch 13\n",
      "Norm: 5.96, NNZs: 13, Bias: 22.067657, T: 4602, Avg. loss: 10.021304\n",
      "Total training time: 0.00 seconds.\n",
      "-- Epoch 14\n",
      "Norm: 6.04, NNZs: 13, Bias: 22.089703, T: 4956, Avg. loss: 9.980612\n",
      "Total training time: 0.00 seconds.\n",
      "-- Epoch 15\n",
      "Norm: 5.99, NNZs: 13, Bias: 22.096056, T: 5310, Avg. loss: 9.914452\n",
      "Total training time: 0.00 seconds.\n",
      "-- Epoch 16\n",
      "Norm: 6.16, NNZs: 13, Bias: 22.078312, T: 5664, Avg. loss: 9.883582\n",
      "Total training time: 0.00 seconds.\n",
      "-- Epoch 17\n",
      "Norm: 6.13, NNZs: 13, Bias: 22.086128, T: 6018, Avg. loss: 9.959999\n",
      "Total training time: 0.00 seconds.\n",
      "-- Epoch 18\n",
      "Norm: 6.15, NNZs: 13, Bias: 22.085181, T: 6372, Avg. loss: 9.914888\n",
      "Total training time: 0.00 seconds.\n",
      "-- Epoch 19\n",
      "Norm: 6.22, NNZs: 13, Bias: 22.087455, T: 6726, Avg. loss: 9.904554\n",
      "Total training time: 0.00 seconds.\n",
      "-- Epoch 20\n",
      "Norm: 6.27, NNZs: 13, Bias: 22.083183, T: 7080, Avg. loss: 9.872610\n",
      "Total training time: 0.00 seconds.\n",
      "-- Epoch 21\n",
      "Norm: 6.25, NNZs: 13, Bias: 22.088614, T: 7434, Avg. loss: 9.894730\n",
      "Total training time: 0.00 seconds.\n",
      "-- Epoch 22\n",
      "Norm: 6.26, NNZs: 13, Bias: 22.092333, T: 7788, Avg. loss: 9.865026\n",
      "Total training time: 0.00 seconds.\n",
      "-- Epoch 23\n",
      "Norm: 6.32, NNZs: 13, Bias: 22.088367, T: 8142, Avg. loss: 9.864815\n",
      "Total training time: 0.00 seconds.\n",
      "-- Epoch 24\n",
      "Norm: 6.33, NNZs: 13, Bias: 22.086092, T: 8496, Avg. loss: 9.851705\n",
      "Total training time: 0.00 seconds.\n",
      "-- Epoch 25\n",
      "Norm: 6.38, NNZs: 13, Bias: 22.100200, T: 8850, Avg. loss: 9.850493\n",
      "Total training time: 0.00 seconds.\n",
      "-- Epoch 26\n",
      "Norm: 6.39, NNZs: 13, Bias: 22.089157, T: 9204, Avg. loss: 9.849535\n",
      "Total training time: 0.00 seconds.\n",
      "-- Epoch 27\n",
      "Norm: 6.49, NNZs: 13, Bias: 22.100165, T: 9558, Avg. loss: 9.793144\n",
      "Total training time: 0.00 seconds.\n",
      "-- Epoch 28\n",
      "Norm: 6.45, NNZs: 13, Bias: 22.106009, T: 9912, Avg. loss: 9.852120\n",
      "Total training time: 0.00 seconds.\n",
      "-- Epoch 29\n",
      "Norm: 6.49, NNZs: 13, Bias: 22.111161, T: 10266, Avg. loss: 9.814138\n",
      "Total training time: 0.00 seconds.\n",
      "-- Epoch 30\n",
      "Norm: 6.45, NNZs: 13, Bias: 22.101990, T: 10620, Avg. loss: 9.802633\n",
      "Total training time: 0.00 seconds.\n",
      "-- Epoch 31\n",
      "Norm: 6.47, NNZs: 13, Bias: 22.090270, T: 10974, Avg. loss: 9.820283\n",
      "Total training time: 0.00 seconds.\n",
      "-- Epoch 32\n",
      "Norm: 6.51, NNZs: 13, Bias: 22.093904, T: 11328, Avg. loss: 9.795451\n",
      "Total training time: 0.00 seconds.\n",
      "Convergence after 32 epochs took 0.00 seconds\n"
     ]
    },
    {
     "data": {
      "image/png": "[encoded data removed]",
      "text/plain": [
       "<Figure size 432x288 with 1 Axes>"
      ]
     },
     "metadata": {
      "needs_background": "light"
     },
     "output_type": "display_data"
    },
    {
     "name": "stdout",
     "output_type": "stream",
     "text": [
      "Mean Squared Error : 29.97152803819996\n"
     ]
    }
   ],
   "source": [
    "# Fit SGDRegressor on the training data and evaluate on test data\n",
    "n_iter=100\n",
    "clf_ = SGDRegressor(max_iter=n_iter, verbose=1)\n",
    "clf_.fit(x_train, y_train)\n",
    "y_pred_sksgd=clf_.predict(x_test)\n",
    "plt.scatter(y_test,y_pred_sksgd)\n",
    "plt.grid()\n",
    "plt.xlabel('Actual y')\n",
    "plt.ylabel('Predicted y')\n",
    "plt.title('Scatter plot from actual y and predicted y')\n",
    "plt.show()\n",
    "\n",
    "print('Mean Squared Error :',mean_squared_error(y_test, y_pred_sksgd))"
   ]
  },
  {
   "cell_type": "markdown",
   "metadata": {},
   "source": [
    "In the logging output, it can be seen how the loss varies at every epoch of SGD. While in general, each step results in lower loss, sometimes due to stochasticity of the algorithm, the loss increases."
   ]
  }
 ],
 "metadata": {
  "kernelspec": {
   "display_name": "STA561",
   "language": "python",
   "name": "python3"
  },
  "language_info": {
   "codemirror_mode": {
    "name": "ipython",
    "version": 3
   },
   "file_extension": ".py",
   "mimetype": "text/x-python",
   "name": "python",
   "nbconvert_exporter": "python",
   "pygments_lexer": "ipython3",
   "version": "3.9.16"
  },
  "vscode": {
   "interpreter": {
    "hash": "5ff78712972ad1d9723777b77156440718eac6d60d034e137fcbf0563820b527"
   }
  }
 },
 "nbformat": 4,
 "nbformat_minor": 4
}
