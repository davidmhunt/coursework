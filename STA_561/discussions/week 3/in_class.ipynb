{
 "cells": [
  {
   "cell_type": "markdown",
   "id": "c4602817",
   "metadata": {},
   "source": [
    "# STAT 561 Lab 2: Kernel Methods\n",
    "\n",
    "### This material was adapted from a previous lab developed by Hunter Klein\n",
    "\n",
    "## Goals: \n",
    "* Review kernel definition and properties of valid kernels \n",
    "* Introduce the kernel trick and Mercer's Theorem \n",
    "* Kernel Ridge Regression using Sklearn \n",
    "* Introduce Gaussian Processes (GPs) as a cool kernel-based method. \n",
    "\n",
    "### Additional resources: \n",
    "* Murphy's Probabilistic ML Book, chapter 18 on GPs - [prob_ML_book](https://probml.github.io/pml-book/book2.html)\n",
    "* This amazing post on GPs - [distill_GP_post](https://distill.pub/2019/visual-exploration-gaussian-processes/)\n",
    "* Gaussian Processes for Machine Learning - Rasmussen & Williams (2006) -- the bible on GPs!\n",
    "* Sklearn's page on kernel approximation - [sklearn_kernel_approx](https://scikit-learn.org/stable/modules/kernel_approximation.html)"
   ]
  },
  {
   "cell_type": "markdown",
   "id": "7ee12d4d",
   "metadata": {},
   "source": [
    "### So, what is a kernel? What properties a kernel MUST have?\n",
    "\n",
    "Kernel can mean many different things in math, BUT here we are specifically considering **Mercer Kernels**, that is, symmetric positive definite kernels. <br/>\n",
    "More specifically, a Mercer kernel is any **symmetric** function $\\mathcal{K} : \\mathcal{X} \\times \\mathcal{X} \\to \\mathbb{R}^{+}$, s.t.: <br/>\n",
    "<br/>\n",
    "$\\sum_{i=1}^N \\sum_{j=1}^N \\mathcal{K} (\\mathbf{x}_i, \\mathbf{x}_j) c_i c_j \\geq 0$ <br/>\n",
    "<br/>\n",
    "with equality iff $c_i=0 \\, \\forall i$. Put it another way, if I give you $N$ data points and a Mercer kernel $\\mathcal{K}(., .)$, we can defined a Gram matrix: <br/>\n",
    "<br/>\n",
    "$\\mathbf{K} = \\left[ \n",
    "\\begin{array}{ccc}\n",
    "\\mathcal{K}(\\mathbf{x}_1, \\mathbf{x}_1) & \\cdots & \\mathcal{K}(\\mathbf{x}_1, \\mathbf{x}_N) \\\\\n",
    " & \\vdots & \\\\\n",
    "\\mathcal{K}(\\mathbf{x}_N, \\mathbf{x}_1) & \\cdots & \\mathcal{K}(\\mathbf{x}_N, \\mathbf{x}_N) \n",
    "\\end{array}\n",
    "\\right]$ <br/>\n",
    "<br/>\n",
    "which has to be symmetric and positive definite for any set of distinct inputs. There are many, many times of Mercer kernels - for a quick reference on these, check out the [kernel_cookbook](https://www.cs.toronto.edu/~duvenaud/cookbook/). <br/>\n",
    "\n",
    "#### Can you think of an example of a valid kernel? What about an invalid one? (Explain)"
   ]
  },
  {
   "cell_type": "markdown",
   "id": "af58f040",
   "metadata": {},
   "source": [
    "**Some (popular) examples of valid kernels**\n",
    "- Linear Kernel $k(x,y) = x^Ty$ \n",
    "\n",
    "- Polynomial Kernel $k(x,y) = (\\gamma x^Ty + c_0)^d$ \n",
    "    - d is the polynomial degree\n",
    "    - if c_0 = 0, the kernel is said to be homogeneous \n",
    "    \n",
    "- RBF Kernel $k(x,y) = \\exp({\\frac{-\\lVert x - y \\rVert^2}{2\\sigma^2}})$\n",
    "    - Called Gaussian if $y = \\bar{x}$\n",
    "    - $\\sigma$ influences tightness of fit, as you can imagine, a low $\\sigma$ will induce overfitting\n",
    "    - Note that in sklearn, this is condensed to $\\exp(-\\gamma \\lVert x - y \\rVert^2)$ where $\\gamma$ is your tightness hyperparameter \n",
    "    \n",
    "**An invalid kernel**\n",
    "- Many options here, but here's an example: \n",
    "$\\mathcal{K}(\\mathbf{x, x'}) = \\lVert \\mathbf{x} - \\mathbf{x'}\\rVert_2$ <br/>\n",
    "Eucledian norm is NOT a valid kernel -- Gram Mat is NOT P.D.! "
   ]
  },
  {
   "cell_type": "markdown",
   "id": "b1d196dc",
   "metadata": {},
   "source": [
    "### Wait, but why are kernels cool/useful? \n",
    "\n",
    "#### Mercer's Theorem\n",
    "First, recall that any P.D. matrix $\\mathbf{K}$ can be represented in terms of its eigendecomposition $\\mathbf{K} = \\mathbf{U^\\top \\Lambda U}$, where $\\mathbf{U}$ is matrix containing the eigenvectors and $\\mathbf{\\Lambda}$ is a diagonal matrix of eigenvalues $\\lambda_i > 0$. Using this decomposition we can write each element of $\\mathbf{K}$ as <br/>\n",
    "<br/>\n",
    "$k_{ij} = (\\mathbf{\\Lambda^{\\frac{1}{2}}U_{:i}})^\\top (\\mathbf{\\Lambda^{\\frac{1}{2}}U_{:j}})$\n",
    "<br/>\n",
    "<br/>\n",
    "and, if we define $\\boldsymbol{\\phi}(\\mathbf{x}_i) = \\mathbf{U_{:i}}$, then this becomes: <br/>\n",
    "<br/>\n",
    "$k_{ij} = \\sum_{m=1}^M \\lambda_m \\phi_m(\\mathbf{x}_i) \\phi_m(\\mathbf{x}_j)$\n",
    "<br/>\n",
    "<br/>\n",
    "where $M$ is the rank of our kernel $\\mathbf{K}$ matrix. That is, we can construct a kernel matrix by performing an inner product of some feature vectors, which are implicitly defined by the eigenvectors of the kernel matrix. And, what's more, we can extend the above to any valid kernel function, not just kernel matrices!! <br/>\n",
    "To do so, start by defining an eigenfunction $\\phi()$ of a kernel $\\mathcal{K}$ with some corresponding eigenval $\\lambda$ as a function that satisfies: <br/>\n",
    "<br/>\n",
    "$\\int \\mathcal{K}(\\mathbf{x, x'})\\phi(\\mathbf{x})d\\mu(\\mathbf{x}) = \\lambda \\phi(\\mathbf{x'})$\n",
    "<br/>\n",
    "<br/>\n",
    "Note that, for a given kernel function, its corresponding eigenfunctions are orthogonal to each other: <br/>\n",
    "<br/>\n",
    "$\\int \\phi_i(\\mathbf{x})\\phi_j(\\mathbf{x})d\\mu(\\mathbf{x}) = \\delta_{ij}$\n",
    "<br/>\n",
    "where $\\delta_{ij}$ is the Kronecker delta function. And, using this definition, we can now state **Mercer's Theorem**, which says that any positive definite kernel function can be represented by the following infinite sum: \n",
    "<br/>\n",
    "<br/>\n",
    "$\\mathcal{K}(\\mathbf{x, x'}) = \\sum_{m=1}^{\\infty} \\lambda_m \\phi_m(\\mathbf{x})\\phi_m(\\mathbf{x'})$\n",
    "<br/>\n",
    "<br/>\n",
    "So what? Well, now we can replace inner product operations in an explicit (and possibly infinite dimensional) feature space with a call to a kernel function - i.e., we can replace $\\mathbf{\\phi(x^\\top)\\phi(x)}$ with $\\mathcal{K}(\\mathbf{x, x'})$!\n",
    "\n",
    "#### The kernel trick \n",
    "Oftentimes, we wish to work with datasets that aren't linearly seperable in one dimensional space, so it can be helpful to use a mapping function $\\Phi(x)$ to a higher dimensional (potentially infinite dimensional even!) space where the data are linearly separable. This trategy is known as **the kernel trick**.  Mercer's theorem (above) gives us some intuition behind why the kernel trick works and why it is so powerful! Additionally, it also allows us to build valid kernels!\n",
    "\n",
    "#### Some ways to build valid kernels (from existing ones)\n",
    "##### This is NOT an exhaustive list btw! \n",
    "* $k(x,x') = ck_1(x,x')$, where $ c > 0 $ is a constant and $k_1(x,x')$ is a known valid kernel\n",
    "* $k(x,x') = f(x)k_1(x,x')f(x')$ where $f$ is any function\n",
    "* $k(x,x') = q(k_1(x,x'))$ where $q$ is a polynomial with nonnegative coefficients\n",
    "* $k(x,x') = \\exp(k_1(x,x'))$\n",
    "* $k(x,x') = k_1(x,x') + k_2(x,x')$ where $k_1$ and $k_2$ are both known valid kernels\n",
    "* $k(x,x') = k_1(x,x')k_2(x,x')$\n",
    "* $k(x,x') = x^TAx$, where $A$ is a symmetric positive semidefinite matrix"
   ]
  },
  {
   "cell_type": "markdown",
   "id": "89afd96e",
   "metadata": {},
   "source": [
    "### Kernels for Regression\n",
    "#### 1.0) Kernel Ridge Regression \n",
    "$$ \\hat{\\beta} = \\text{argmin}_{\\beta}(\\lVert Y - \\Phi(X)^T\\beta \\rVert^2 + \\lambda_1\\lVert \\beta \\rVert^2)$$ <br/>\n",
    "<br/>\n",
    "**Try it yourself:**\n",
    "Use sklearn's KernelRidge Method to fit a Kernel Ridge Regression to some data using a linear kernel. Plot original data, true function and results of your kernel regression. Is this a good fit?"
   ]
  },
  {
   "cell_type": "code",
   "execution_count": 1,
   "id": "0ceb0fad",
   "metadata": {},
   "outputs": [],
   "source": [
    "from sklearn.kernel_ridge import KernelRidge\n",
    "import numpy as np\n",
    "import matplotlib.pyplot as plt\n",
    "\n",
    "#generate data \n",
    "X = np.linspace(0,15,100).reshape(-1,1)\n",
    "y = np.cos(X) + np.random.normal(0,.25,size=X.shape[0]).reshape(-1,1)"
   ]
  },
  {
   "cell_type": "code",
   "execution_count": null,
   "id": "6df6e459",
   "metadata": {},
   "outputs": [],
   "source": [
    "#Your Ans Here "
   ]
  },
  {
   "cell_type": "markdown",
   "id": "c18d8e8c",
   "metadata": {},
   "source": [
    "**Try it yourself:** Do same using polynomial kernels of degrees 2, 4, and 6. Once again, plot data, true function and regression results and comment on fit and its relation to chosen poly degree."
   ]
  },
  {
   "cell_type": "code",
   "execution_count": null,
   "id": "64fdf0f7",
   "metadata": {},
   "outputs": [],
   "source": [
    "#Your Ans Here "
   ]
  },
  {
   "cell_type": "markdown",
   "id": "c64e0eed",
   "metadata": {},
   "source": [
    "**Try it yourself:** Now, use a Gaussian ('rbf') kernel instead. Construct a similar plot and comment on fit "
   ]
  },
  {
   "cell_type": "code",
   "execution_count": null,
   "id": "a2a248e8",
   "metadata": {},
   "outputs": [],
   "source": [
    "#Your Ans Here "
   ]
  },
  {
   "cell_type": "markdown",
   "id": "9d7b45bc",
   "metadata": {},
   "source": [
    "#### Playing with costum kernels in sklearn \n",
    "* Note that you can also define your own kernel using sklearn and fit your ridge regression using it!\n",
    "* Below I show examples of this for a linear and rbf kernels (these are already implemented by default, but goal here is just to show you syntax behind this)\n",
    "* **Try it yourself:** \n",
    "    * Implement a custom kernel using a combination of the linear and rbf kernerls we gave to you? (Hint: check allowed linear combo examples given above!) Use this kernel to fit a Ridge Regression to your data. \n",
    "    * Now implement a kernel you know is invalid and trying fitting Ridge Regression with it. What happens? "
   ]
  },
  {
   "cell_type": "code",
   "execution_count": 5,
   "id": "d1775dc4",
   "metadata": {},
   "outputs": [],
   "source": [
    "from sklearn.kernel_ridge import KernelRidge\n",
    "import numpy as np\n",
    "import matplotlib.pyplot as plt\n",
    "\n",
    "#define your own kernel \n",
    "\n",
    "#ex: linear \n",
    "def my_kernel(X,Y):\n",
    "    return np.dot(X, Y.T)\n",
    "\n",
    "#ex: rbf\n",
    "def my_kernel_rbf(X,Y,sigma=3):\n",
    "    phi = np.exp(-np.linalg.norm(X-Y)**2 / (2*sigma**2))\n",
    "    return phi"
   ]
  },
  {
   "cell_type": "code",
   "execution_count": 6,
   "id": "0e2a54e1",
   "metadata": {},
   "outputs": [],
   "source": [
    "#create data as before \n",
    "X = np.linspace(0,15,100).reshape(-1,1)\n",
    "y = np.cos(X) + np.random.normal(0,.25,size=X.shape[0]).reshape(-1,1)"
   ]
  },
  {
   "cell_type": "code",
   "execution_count": 7,
   "id": "f2f40e2a",
   "metadata": {},
   "outputs": [],
   "source": [
    "#Your Ans Here "
   ]
  },
  {
   "cell_type": "code",
   "execution_count": 10,
   "id": "1eecd518",
   "metadata": {},
   "outputs": [
    {
     "data": {
      "image/png": "[encoded data removed]",
      "text/plain": [
       "<Figure size 432x288 with 1 Axes>"
      ]
     },
     "metadata": {
      "needs_background": "light"
     },
     "output_type": "display_data"
    }
   ],
   "source": [
    "#just show this to them \n",
    "\n",
    "from sklearn.kernel_ridge import KernelRidge\n",
    "import numpy as np\n",
    "import matplotlib.pyplot as plt\n",
    "\n",
    "X = np.linspace(0,15,100).reshape(-1,1)\n",
    "y = np.cos(X) + np.random.normal(0,.25,size=X.shape[0]).reshape(-1,1)\n",
    "\n",
    "linear_Gram = np.dot(X,X.T)\n",
    "\n",
    "\n",
    "model = KernelRidge(kernel='precomputed')\n",
    "\n",
    "model.fit(linear_Gram,y)\n",
    "\n",
    "#In the case for training and test sets, \n",
    "#you need to get the gram matrix for the test set as well\n",
    "y_pred = model.predict(linear_Gram)\n",
    "\n",
    "plt.scatter(X,y,color='red',label='observations')\n",
    "plt.plot(X,np.cos(X),label='true function')\n",
    "plt.plot(X,y_pred,'--',label='my custom kernel')\n",
    "plt.legend()\n",
    "plt.title('precomputed kernel ridge regression')\n",
    "plt.show()"
   ]
  },
  {
   "cell_type": "markdown",
   "id": "d1c5359a",
   "metadata": {},
   "source": [
    "### Gaussian Processes (GPs)\n",
    "\n",
    "#### What are GPs?\n",
    "* In a nutshell, GPs are stochastic processes (i.e., collection of RVs indexed by time or space) s.t. every finite collection of such RVs follows a Multivariate Normal Distribution. \n",
    "* These are widely used for regression problems on robotics and time-series forecasting, as well as classification. \n",
    "* GPs allow us to **place a probability distribution over the space of possible functions which fit our data**. \n",
    "    * The mean of this probability distribution represents the most probable characterization of the data.\n",
    "    * We can use estimated covariance for this distribution to incorporate a notion of confidence in the predictions we obtain from our regression.\n",
    "    \n",
    "#### Well what do kernels have to do with GPs?\n",
    "* When constructing and fitting a GP, one needs to choose a kernel function, which is symmetric, positive definite function. Does this sound familiar? If should! Just recall the Mercer kernels discussion from above. This kernel function will allow us to characterize the covariance matrix for the MVN over our data points...\n",
    "* More specifically, if we are given a dataset divided into $N$ training points and $N_*$ test points and wish to model these data using a GP, we have: <br/>\n",
    "<br/>\n",
    "$\\left( \n",
    "\\begin{array}{c}\n",
    "\\boldsymbol{f}_X \\\\\n",
    "\\boldsymbol{f}_*\n",
    "\\end{array}\n",
    "\\right) \\sim \\left(\\left( \n",
    "\\begin{array}{c}\n",
    "\\boldsymbol{\\mu}_X \\\\\n",
    "\\boldsymbol{\\mu}_*\n",
    "\\end{array}\\right), \\left( \n",
    "\\begin{array}{cc}\n",
    "\\boldsymbol{K}_{X,X} &  \\boldsymbol{K}_{X,*}\\\\\n",
    "\\boldsymbol{K}^\\top_{X,*} & \\boldsymbol{K}_{*,*}\n",
    "\\end{array}\\right) \\right)$ <br/>\n",
    "\n",
    "as the MVN defined over all of our data points. Here, $\\boldsymbol{\\mu}_X$ and $\\boldsymbol{\\mu}_*$ are the means of our training and test points, respectively. $\\mathbf{K}_{X,X}$ is a $N \\times N$ matrix defined by applying our kernel function to the train points. Similarly, $\\mathbf{K}_{*,*}$ and $\\mathbf{K}_{X,*}$ are $N_* \\times N_*$ and $N \\times N_*$ matrices defined by applying the kernel function to our train and test points appropriately. <br/>\n",
    "\n",
    "By choosing a form for our kernel function (e.g., 'rbf') we are implicitly **defining a prior over all possible functions describing our data**. Then, once we see some training data and fit our model to it, we can obtain a posterior distribution over the possible set of functions describing our data, as such:  <br/>\n",
    "<br/>\n",
    "$p(\\boldsymbol{f}_* | \\mathbf{X_*}, \\mathcal{D}) = \\mathcal{N}(\\mathbf{f}_*|\\boldsymbol{\\mu}_{*|X}, \\boldsymbol{\\Sigma}_{*|X})$<br/>\n",
    "$\\boldsymbol{\\mu}_{*|X} = \\boldsymbol{\\mu}_* + \\mathbf{K^\\top}_{X,*}\\mathbf{K}^{-1}_{X,X}(\\mathbf{f}_X - \\boldsymbol{\\mu}_X)$ <br/>\n",
    "$\\boldsymbol{\\Sigma}_{*|X} = \\mathbf{K}_{*, *} - \\mathbf{K}^\\top_{X, *}\\mathbf{K}^{-1}_{X,X} \\mathbf{K}_{X,*}$\n",
    "<br/>\n",
    "<br/>\n",
    "Note that there is nothing really new/fancy going on here... These expressions just pop up from knowing that our conditional is Gaussian as well...\n",
    "\n",
    "And, if we add some uncertainty on training observations as part of our model - i.e., we take $y_n = f(\\mathbf{x}_n) + \\epsilon_n, \\, \\epsilon_n \\sim \\mathcal{N}(0, \\sigma_y^2)$, we get: \n",
    "\n",
    "<br/>\n",
    "$\\left( \n",
    "\\begin{array}{c}\n",
    "\\boldsymbol{y} \\\\\n",
    "\\boldsymbol{f}_*\n",
    "\\end{array}\n",
    "\\right) \\sim \\left(\\left( \n",
    "\\begin{array}{c}\n",
    "\\boldsymbol{\\mu}_X \\\\\n",
    "\\boldsymbol{\\mu}_*\n",
    "\\end{array}\\right), \\left( \n",
    "\\begin{array}{cc}\n",
    "\\boldsymbol{K}_{X,X} + \\sigma_y^2 \\mathbf{I} &  \\boldsymbol{K}_{X,*}\\\\\n",
    "\\boldsymbol{K}^\\top_{X,*} & \\boldsymbol{K}_{*,*}\n",
    "\\end{array}\\right) \\right)$ <br/>\n",
    "\n",
    "as our joint MVN over all data points. And similarly, we can compute the conditional MVN posterior: \n",
    "\n",
    "<br/>\n",
    "$p(\\boldsymbol{f}_* | \\mathbf{X_*}, \\mathcal{D}) = \\mathcal{N}(\\mathbf{f}_*|\\boldsymbol{\\mu}_{*|X}, \\boldsymbol{\\Sigma}_{*|X})$<br/>\n",
    "$\\boldsymbol{\\mu}_{*|X} = \\boldsymbol{\\mu}_* + \\mathbf{K^\\top}_{X,*}\\left(\\mathbf{K}_{X,X} + \\sigma_y^2 \\mathbf{I}\\right)^{-1} (\\mathbf{y} - \\boldsymbol{\\mu}_X)$ <br/>\n",
    "$\\boldsymbol{\\Sigma}_{*|X} = \\mathbf{K}_{*, *} - \\mathbf{K}^\\top_{X, *} \\left(\\mathbf{K}_{X,X} + \\sigma_y^2 \\mathbf{I}\\right)^{-1} \\mathbf{K}_{X,*}$\n",
    "<br/>\n",
    "<br/>\n",
    "\n",
    "#### Let's play with some code! \n",
    "\n",
    "* For this lab we will use tinygp, which is a very lightweight lib for GP implementations (based on JAX) - (https://tinygp.readthedocs.io/en/stable/api/index.html#module-tinygp). \n",
    "* **Try it yourself:** Read some of the docs on tinygp above and implement code to construct a GP with an 'rbf' (Gaussian) kernel. Take 3 samples from this prior, then fit model to data (with and without noise) and take another 3 samples from these conditional posteriors."
   ]
  },
  {
   "cell_type": "code",
   "execution_count": 11,
   "id": "e0853417",
   "metadata": {},
   "outputs": [],
   "source": [
    "#you might have to install jax and seaborn \n",
    "#in your conda env before proceeding...\n",
    "import jax\n",
    "import jax.numpy as jnp\n",
    "import matplotlib.pyplot as plt\n",
    "import seaborn as sns\n",
    "\n",
    "try:\n",
    "    from tinygp import GaussianProcess, kernels\n",
    "except ModuleNotFoundError:\n",
    "    %pip install -qqq tinygp\n",
    "    from tinygp import GaussianProcess, kernels\n",
    "\n",
    "jax.config.update(\"jax_enable_x64\", True)"
   ]
  },
  {
   "cell_type": "code",
   "execution_count": null,
   "id": "905c45ae",
   "metadata": {},
   "outputs": [],
   "source": [
    "#implement a method to sample from your GP prior \n",
    "#complete code below \n",
    "\n",
    "def sample_from_prior(key, data):\n",
    "    \"\"\"\n",
    "    Takes samples from GP prior and plots these out.\n",
    "    Args: \n",
    "    key: seed for pseudo random num generator in Jax.\n",
    "    data: dict. containining keys 'noise', 'n_samples'\n",
    "    and 'x' containing vals for noise levels, number of \n",
    "    samples and original data x.\n",
    "    \"\"\"\n",
    "    #choose an rbf kernel with scale 1 \n",
    "    kernel = kernels.ExpSquared(scale=1.0) \n",
    "    #construct a gp obj using your kernel and the data \n",
    "    # and sample from this GP \n",
    "    \n",
    "    ## Your ans here ###\n",
    "    \n",
    "    ###################\n",
    "    \n",
    "    plt.figure()\n",
    "    plt.plot(x, samples.T, color=c_0)\n",
    "    plt.xlabel(\"$x$\")\n",
    "    plt.ylabel(\"$f$\")\n",
    "    plt.title('Prior GP Samples')\n",
    "    sns.despine()\n",
    "\n",
    "#define color, random seed and data dict \n",
    "c_0 = \"#1f77b4\" \n",
    "key = jax.random.PRNGKey(0)\n",
    "x = jnp.arange(-5, 5.2, 0.2)\n",
    "data = {\"noise\": 0.0, \"n_samples\": 3, \"x\": x}\n",
    "\n",
    "#call your method to sample and plot from prior \n",
    "sample_from_prior(key, data)"
   ]
  },
  {
   "cell_type": "code",
   "execution_count": null,
   "id": "22b5658a",
   "metadata": {},
   "outputs": [],
   "source": [
    "def sample_from_posterior(key, data):\n",
    "    \"\"\"\n",
    "    Takes samples from conditioned GP posterior and \n",
    "    plots these out - showing posterior mean \n",
    "    +/- 2std around it.\n",
    "    Args: \n",
    "    key: seed for pseudo random num generator in Jax.\n",
    "    data: dict. containining keys 'noise', 'n_samples'\n",
    "    and 'x' containing vals for noise levels, number of \n",
    "    samples and original data x.\n",
    "    \"\"\"\n",
    "    #choose an rbf kernel with scale 1 \n",
    "    kernel = kernels.ExpSquared(scale=1.0)\n",
    "    \n",
    "    #construct a gp obj using your kernel and the data \n",
    "    #condition it on your train data, and make predictions with it\n",
    "    #for the test points\n",
    "    #get posterior mean and std\n",
    "    \n",
    "    ## Your ans here ###\n",
    "    \n",
    "    ###################\n",
    "\n",
    "    plt.figure()\n",
    "    plt.plot(data[\"x_test\"], samples.T, color=c_0)\n",
    "    plt.scatter(data[\"x_train\"], data[\"y_train\"], color=c_1, zorder=10, s=5)\n",
    "    plt.fill_between(data[\"x_test\"].flatten(), mean - 2 * std, mean + 2 * std, alpha=0.2)\n",
    "    plt.xlabel(\"$x$\")\n",
    "    plt.ylabel(\"$f$\")\n",
    "    plt.title('Posterior GP samples with {} noise'.format(data['noise']))\n",
    "    sns.despine()\n",
    "\n",
    "#generate random seed, train/test data, color for CI band\n",
    "key = jax.random.PRNGKey(0)\n",
    "x_train = jnp.array([[-4], [-3], [-2], [-1], [1]])\n",
    "y_train = jnp.sin(x_train).flatten()\n",
    "\n",
    "x_test = jnp.expand_dims(jnp.arange(-5, 5.2, 0.2), axis=-1)\n",
    "c_1 = \"#ff7f0e\"\n",
    "\n",
    "#sample from and plot conditioned posterior w/otu obs noise\n",
    "data = {\"noise\": 0.0, \"n_samples\": 3, \"x_train\": x_train, \"y_train\": y_train,\\\n",
    "        \"x_test\": x_test}\n",
    "sample_from_posterior(key, data)\n",
    "\n",
    "#sample from and plot conditioned posterior, now with some obs noise\n",
    "data = {\"noise\": 0.3, \"n_samples\": 3, \"x_train\": x_train, \"y_train\": y_train, \\\n",
    "        \"x_test\": x_test}\n",
    "sample_from_posterior(key, data)"
   ]
  },
  {
   "cell_type": "markdown",
   "id": "24555bf8",
   "metadata": {},
   "source": [
    "**Challenge:** Can you implement your own rbf kernel GP from scratch? You should incorporate a means to learn the kernel lengthscale and variance params!"
   ]
  }
 ],
 "metadata": {
  "kernelspec": {
   "display_name": "Python [conda env:ddim_clone] *",
   "language": "python",
   "name": "conda-env-ddim_clone-py"
  },
  "language_info": {
   "codemirror_mode": {
    "name": "ipython",
    "version": 3
   },
   "file_extension": ".py",
   "mimetype": "text/x-python",
   "name": "python",
   "nbconvert_exporter": "python",
   "pygments_lexer": "ipython3",
   "version": "3.9.12"
  }
 },
 "nbformat": 4,
 "nbformat_minor": 5
}
